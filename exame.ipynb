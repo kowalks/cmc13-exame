{
  "cells": [
    {
      "cell_type": "markdown",
      "metadata": {
        "id": "kgumrrEF2JSu"
      },
      "source": [
        "<h3 align=\"center\">Instituto Tecnológico de Aeronáutica - ITA</h3>\n",
        "\n",
        "<h3 align=\"center\">Introdução a Ciência de Dados - CMC-13</h3>\n",
        "\n",
        "<h3 align=\"center\">Equipe: Fernando Zanchitta, Guilherme Kowalczuk, Rafael Frisch e Yuri Gama</h3>\n",
        "\n",
        "---\n",
        "\n",
        "# Laboratório de Exame\n",
        "\n",
        "O objetivo desse laboratório é exercitar e fixar os conhecimentos aprendidos em CMC-13 por meio da prática de técnicas de Ciência de Dados em uma base de dados fornecida. Para isso, foi utilizado o *dataset* de dados sobre imóveis no Reino Unido e seus respectivos preços. O objetivo desse laboratório é prever o preço de um imóvel a partir de suas características utilizando técnicas de regressão baseadas em Redes Neurais do tipo MLP e em Árvores de Decisão. Por fim, é realizado um estudo comparativo entre os dois modelos, com o intuito de verificar qual deles apresenta melhor desempenho para o problema em questão. Para isso, são avaliados medidas de desempenho diversas. Por fim, aplicamos o modelo em um conjunto de dados de teste para verificar o desempenho do modelo em dados não vistos."
      ]
    },
    {
      "cell_type": "markdown",
      "metadata": {
        "id": "L4CoV3M2S_rF"
      },
      "source": [
        "## 0. Aquisição dos dados:\n",
        "\n",
        "Nessa etapa vamos fazer o download do conjunto de dados a ser utilizado. Essa etapa é opcional caso os dados já estejam no diretório do projeto. Caso não haja o pacote `gdown` em Python e o arquivo já esteja no diretório do projeto, basta comentar essa linha de código."
      ]
    },
    {
      "cell_type": "code",
      "execution_count": 1,
      "metadata": {},
      "outputs": [
        {
          "name": "stdout",
          "output_type": "stream",
          "text": [
            "Downloading...\n",
            "From: https://drive.google.com/uc?id=16tT3wHeWoUvlp9pEi3E4Q9L_msZr5v-t\n",
            "To: /Users/kowalks/dev/cmc13-exame/UK_real_estate.csv\n",
            "100%|█████████████████████████████████████████| 190k/190k [00:00<00:00, 971kB/s]\n"
          ]
        }
      ],
      "source": [
        "!gdown 16tT3wHeWoUvlp9pEi3E4Q9L_msZr5v-t"
      ]
    },
    {
      "cell_type": "markdown",
      "metadata": {},
      "source": [
        "## 1. Preparação dos dados\n",
        "\n",
        "Aqui vamos fazer o carregamento e o pré-processamento dos dados a serem utilizados. O intuito dessa preparação é deixar os dados prontos para a posterior aplicação nos modelos estudados. Para isso, foi utilizado o pacote `pandas` para a manipulação dos dados. Os tipos das variáveis foram especificados conforme descrito no arquivo `real_estate.txt`. Assim, variáveis numéricas foram encodificadas com tipo inteiro e variáveis categóricas foram encodificadas com tipo *string*."
      ]
    },
    {
      "cell_type": "code",
      "execution_count": 33,
      "metadata": {},
      "outputs": [
        {
          "data": {
            "text/html": [
              "<div>\n",
              "<style scoped>\n",
              "    .dataframe tbody tr th:only-of-type {\n",
              "        vertical-align: middle;\n",
              "    }\n",
              "\n",
              "    .dataframe tbody tr th {\n",
              "        vertical-align: top;\n",
              "    }\n",
              "\n",
              "    .dataframe thead th {\n",
              "        text-align: right;\n",
              "    }\n",
              "</style>\n",
              "<table border=\"1\" class=\"dataframe\">\n",
              "  <thead>\n",
              "    <tr style=\"text-align: right;\">\n",
              "      <th></th>\n",
              "      <th>Price</th>\n",
              "      <th>Location</th>\n",
              "      <th>Postal Code</th>\n",
              "      <th>Area</th>\n",
              "      <th>Bedrooms</th>\n",
              "      <th>Bathrooms</th>\n",
              "      <th>Receptions</th>\n",
              "      <th>City-County</th>\n",
              "      <th>House-Type</th>\n",
              "    </tr>\n",
              "  </thead>\n",
              "  <tbody>\n",
              "    <tr>\n",
              "      <th>0</th>\n",
              "      <td>1675000</td>\n",
              "      <td>Wimbledon</td>\n",
              "      <td>SW19 8NY</td>\n",
              "      <td>2716</td>\n",
              "      <td>5</td>\n",
              "      <td>5</td>\n",
              "      <td>5</td>\n",
              "      <td>London</td>\n",
              "      <td>House</td>\n",
              "    </tr>\n",
              "    <tr>\n",
              "      <th>1</th>\n",
              "      <td>650000</td>\n",
              "      <td>Clerkenwell</td>\n",
              "      <td>EC1V 3PA</td>\n",
              "      <td>814</td>\n",
              "      <td>2</td>\n",
              "      <td>2</td>\n",
              "      <td>2</td>\n",
              "      <td>London</td>\n",
              "      <td>Flat / Apartment</td>\n",
              "    </tr>\n",
              "    <tr>\n",
              "      <th>2</th>\n",
              "      <td>735000</td>\n",
              "      <td>Putney</td>\n",
              "      <td>SW15 1QL</td>\n",
              "      <td>761</td>\n",
              "      <td>2</td>\n",
              "      <td>2</td>\n",
              "      <td>2</td>\n",
              "      <td>London</td>\n",
              "      <td>Flat / Apartment</td>\n",
              "    </tr>\n",
              "    <tr>\n",
              "      <th>3</th>\n",
              "      <td>1765000</td>\n",
              "      <td>Putney</td>\n",
              "      <td>SW15 1LP</td>\n",
              "      <td>1986</td>\n",
              "      <td>4</td>\n",
              "      <td>4</td>\n",
              "      <td>4</td>\n",
              "      <td>London</td>\n",
              "      <td>House</td>\n",
              "    </tr>\n",
              "    <tr>\n",
              "      <th>4</th>\n",
              "      <td>675000</td>\n",
              "      <td>Putney</td>\n",
              "      <td>SW15 1PL</td>\n",
              "      <td>700</td>\n",
              "      <td>2</td>\n",
              "      <td>2</td>\n",
              "      <td>2</td>\n",
              "      <td>London</td>\n",
              "      <td>Flat / Apartment</td>\n",
              "    </tr>\n",
              "  </tbody>\n",
              "</table>\n",
              "</div>"
            ],
            "text/plain": [
              "     Price     Location Postal Code  Area  Bedrooms  Bathrooms  Receptions  \\\n",
              "0  1675000    Wimbledon    SW19 8NY  2716         5          5           5   \n",
              "1   650000  Clerkenwell    EC1V 3PA   814         2          2           2   \n",
              "2   735000       Putney    SW15 1QL   761         2          2           2   \n",
              "3  1765000       Putney    SW15 1LP  1986         4          4           4   \n",
              "4   675000       Putney    SW15 1PL   700         2          2           2   \n",
              "\n",
              "  City-County        House-Type  \n",
              "0      London             House  \n",
              "1      London  Flat / Apartment  \n",
              "2      London  Flat / Apartment  \n",
              "3      London             House  \n",
              "4      London  Flat / Apartment  "
            ]
          },
          "execution_count": 33,
          "metadata": {},
          "output_type": "execute_result"
        }
      ],
      "source": [
        "import pandas as pd\n",
        "import numpy as np\n",
        "\n",
        "columns = {\n",
        "    'Price': np.int64,\n",
        "    'Location': str,\n",
        "    'Postal Code': str,\n",
        "    'Area': np.int64,\n",
        "    'Bedrooms': np.int64,\n",
        "    'Bathrooms': np.int64,\n",
        "    'Receptions': np.int64,\n",
        "    'City-County': str,\n",
        "    'House-Type': str,\n",
        "}\n",
        "data = pd.read_csv('UK_real_estate.csv', index_col=False, usecols=columns.keys(), dtype=columns)\n",
        "data.head()"
      ]
    },
    {
      "cell_type": "markdown",
      "metadata": {},
      "source": [
        "Já é possível ver se há valores faltantes no *dataset* para um futuro tratamento. Nesse caso, observou-se que há 2958 registros (linhas) na base de dados, e nenhum campo tem valores faltantes para quase todas as colunas, exceto `Location`. O tratamento desses dados será feito posteriormente, após a divisão em treino e teste."
      ]
    },
    {
      "cell_type": "code",
      "execution_count": 34,
      "metadata": {},
      "outputs": [
        {
          "name": "stdout",
          "output_type": "stream",
          "text": [
            "<class 'pandas.core.frame.DataFrame'>\n",
            "RangeIndex: 2958 entries, 0 to 2957\n",
            "Data columns (total 9 columns):\n",
            " #   Column       Non-Null Count  Dtype \n",
            "---  ------       --------------  ----- \n",
            " 0   Price        2958 non-null   int64 \n",
            " 1   Location     2096 non-null   object\n",
            " 2   Postal Code  2958 non-null   object\n",
            " 3   Area         2958 non-null   int64 \n",
            " 4   Bedrooms     2958 non-null   int64 \n",
            " 5   Bathrooms    2958 non-null   int64 \n",
            " 6   Receptions   2958 non-null   int64 \n",
            " 7   City-County  2958 non-null   object\n",
            " 8   House-Type   2958 non-null   object\n",
            "dtypes: int64(5), object(4)\n",
            "memory usage: 208.1+ KB\n"
          ]
        }
      ],
      "source": [
        "data.info()"
      ]
    },
    {
      "cell_type": "markdown",
      "metadata": {},
      "source": [
        "### 1.1. Pré-Processamento"
      ]
    },
    {
      "cell_type": "markdown",
      "metadata": {},
      "source": [
        "#### 1.1.1 Processamento de variáveis indentificadoras\n",
        "\n",
        "Aqui, vamos remover as variáveis que não serão utilizadas no modelo porque não trazem informação útil para a predição. As variáveis identificadoras são aquelas que são diferentes para todo conjunto de dados. Assim basta verificar se a quantidade de valores únicos é igual a de eventos. No caso descrito, não há nenhuma variável nesssa categoria."
      ]
    },
    {
      "cell_type": "code",
      "execution_count": 35,
      "metadata": {
        "colab": {
          "base_uri": "https://localhost:8080/"
        },
        "id": "hYU9EIFjUrx5",
        "outputId": "c026cb38-4299-4961-bccc-30e81f947d95"
      },
      "outputs": [
        {
          "name": "stdout",
          "output_type": "stream",
          "text": [
            "Atributos identificadores:  Index([], dtype='object')\n",
            "Removendo atributos identificadores...\n"
          ]
        }
      ],
      "source": [
        "index_columns = data.columns[data.nunique()==len(data)]\n",
        "print(\"Atributos identificadores: \", index_columns)\n",
        "\n",
        "print(\"Removendo atributos identificadores...\")\n",
        "data = data.drop(columns=index_columns)"
      ]
    },
    {
      "cell_type": "markdown",
      "metadata": {},
      "source": [
        "#### 1.1.2. Processamento de variáveis irrelevantes\n",
        "\n",
        "São variáveis que possuem o mesmo valor entre si independente do evento. Essas variáveis não ajudam na predição, porque seu valor independe do dado."
      ]
    },
    {
      "cell_type": "code",
      "execution_count": 36,
      "metadata": {
        "id": "4eE5dooZWVbX"
      },
      "outputs": [
        {
          "name": "stdout",
          "output_type": "stream",
          "text": [
            "Atributos irrelevantes:  Index([], dtype='object')\n",
            "Removendo atributos irrelevantes...\n"
          ]
        }
      ],
      "source": [
        "irrelevant_columns = data.columns[data.nunique()==1]\n",
        "print(\"Atributos irrelevantes: \", irrelevant_columns)\n",
        "\n",
        "print(\"Removendo atributos irrelevantes...\")\n",
        "data = data.drop(columns = irrelevant_columns)"
      ]
    },
    {
      "cell_type": "markdown",
      "metadata": {},
      "source": [
        "#### 1.1.3. Processamento das variáveis categóricas\n",
        "\n",
        "As variáveis categóricas são aquelas encodificadas como `string` e que categorizam os dados não numéricos em algumas classes. Para isso, vamos analisar novamente os tipos das variáveis e o número de valores únicos."
      ]
    },
    {
      "cell_type": "code",
      "execution_count": 37,
      "metadata": {
        "colab": {
          "base_uri": "https://localhost:8080/"
        },
        "id": "cH5aVonp0tHK",
        "outputId": "5881fc1f-e392-4956-c6be-521ba0fa8dee"
      },
      "outputs": [
        {
          "data": {
            "text/html": [
              "<div>\n",
              "<style scoped>\n",
              "    .dataframe tbody tr th:only-of-type {\n",
              "        vertical-align: middle;\n",
              "    }\n",
              "\n",
              "    .dataframe tbody tr th {\n",
              "        vertical-align: top;\n",
              "    }\n",
              "\n",
              "    .dataframe thead th {\n",
              "        text-align: right;\n",
              "    }\n",
              "</style>\n",
              "<table border=\"1\" class=\"dataframe\">\n",
              "  <thead>\n",
              "    <tr style=\"text-align: right;\">\n",
              "      <th></th>\n",
              "      <th>Contagem</th>\n",
              "      <th>Valores únicos</th>\n",
              "      <th>Tipo</th>\n",
              "    </tr>\n",
              "  </thead>\n",
              "  <tbody>\n",
              "    <tr>\n",
              "      <th>Price</th>\n",
              "      <td>2958</td>\n",
              "      <td>470</td>\n",
              "      <td>int64</td>\n",
              "    </tr>\n",
              "    <tr>\n",
              "      <th>Location</th>\n",
              "      <td>2096</td>\n",
              "      <td>573</td>\n",
              "      <td>object</td>\n",
              "    </tr>\n",
              "    <tr>\n",
              "      <th>Postal Code</th>\n",
              "      <td>2958</td>\n",
              "      <td>2487</td>\n",
              "      <td>object</td>\n",
              "    </tr>\n",
              "    <tr>\n",
              "      <th>Area</th>\n",
              "      <td>2958</td>\n",
              "      <td>1808</td>\n",
              "      <td>int64</td>\n",
              "    </tr>\n",
              "    <tr>\n",
              "      <th>Bedrooms</th>\n",
              "      <td>2958</td>\n",
              "      <td>11</td>\n",
              "      <td>int64</td>\n",
              "    </tr>\n",
              "    <tr>\n",
              "      <th>Bathrooms</th>\n",
              "      <td>2958</td>\n",
              "      <td>11</td>\n",
              "      <td>int64</td>\n",
              "    </tr>\n",
              "    <tr>\n",
              "      <th>Receptions</th>\n",
              "      <td>2958</td>\n",
              "      <td>11</td>\n",
              "      <td>int64</td>\n",
              "    </tr>\n",
              "    <tr>\n",
              "      <th>City-County</th>\n",
              "      <td>2958</td>\n",
              "      <td>51</td>\n",
              "      <td>object</td>\n",
              "    </tr>\n",
              "    <tr>\n",
              "      <th>House-Type</th>\n",
              "      <td>2958</td>\n",
              "      <td>8</td>\n",
              "      <td>object</td>\n",
              "    </tr>\n",
              "  </tbody>\n",
              "</table>\n",
              "</div>"
            ],
            "text/plain": [
              "             Contagem  Valores únicos    Tipo\n",
              "Price            2958             470   int64\n",
              "Location         2096             573  object\n",
              "Postal Code      2958            2487  object\n",
              "Area             2958            1808   int64\n",
              "Bedrooms         2958              11   int64\n",
              "Bathrooms        2958              11   int64\n",
              "Receptions       2958              11   int64\n",
              "City-County      2958              51  object\n",
              "House-Type       2958               8  object"
            ]
          },
          "execution_count": 37,
          "metadata": {},
          "output_type": "execute_result"
        }
      ],
      "source": [
        "pd.DataFrame({\n",
        "    'Contagem': data.count(),\n",
        "    'Valores únicos': data.nunique(),\n",
        "    'Tipo': data.dtypes,\n",
        "})"
      ]
    },
    {
      "cell_type": "markdown",
      "metadata": {},
      "source": [
        "Das variáveis descritas, temos\n",
        "- Colunas categórica: `Location`, `Postal Code`, `City-County` e `House-Type`\n",
        "- Colunas numéricas contínuas: `Area`\n",
        "- Colunas numéticas discretas: `Bedrooms`, `Bathrooms`, `Receptions`"
      ]
    },
    {
      "cell_type": "code",
      "execution_count": 38,
      "metadata": {
        "id": "-5OmTZcHdVR1"
      },
      "outputs": [],
      "source": [
        "category_columns = ['Location','Postal Code','City-County','House-Type']\n",
        "continuous_columns = ['Area']\n",
        "discrete_columns = ['Bedrooms','Bathrooms','Receptions']\n",
        "\n",
        "data[category_columns] = data[category_columns].astype('category')"
      ]
    },
    {
      "cell_type": "markdown",
      "metadata": {
        "id": "VBUel4KwOU5b"
      },
      "source": [
        "#### 1.1.4 Distribuição do preço\n",
        "\n",
        "Histograma de distribuição da variável target *preço*. Perceba que o preço é uma variável contínua, e que a maioria dos preços está entre 0 e 1 milhão de libras. No entanto, é possível ver que há muita discrepância entre os preços, com alguns imóveis custando mais de 10 milhões de libras."
      ]
    },
    {
      "cell_type": "code",
      "execution_count": 39,
      "metadata": {
        "colab": {
          "base_uri": "https://localhost:8080/",
          "height": 487
        },
        "id": "g56gTV-BOaZJ",
        "outputId": "7413e324-f261-414c-945d-aec7de8e39db"
      },
      "outputs": [
        {
          "data": {
            "image/png": "[encoded data removed]",
            "text/plain": [
              "<Figure size 640x480 with 1 Axes>"
            ]
          },
          "metadata": {},
          "output_type": "display_data"
        }
      ],
      "source": [
        "import matplotlib.pyplot as plt\n",
        "import seaborn as sns\n",
        "\n",
        "sns.histplot(data, x='Price').set_title('Histograma do preço (Price)')\n",
        "plt.show()\n"
      ]
    },
    {
      "cell_type": "markdown",
      "metadata": {},
      "source": [
        "Como o intervalo de preços é muito grande (em ordem de grandezas), faz sentido adotar o preço em escala logaritmica. Assim, valiamos o logaritmo do preço, e não o preço em si. Isso é feito para evitar que o modelo seja enviesado para os imóveis mais caros, que são poucos, e não generalize bem para os imóveis mais baratos, que são a maioria."
      ]
    },
    {
      "cell_type": "code",
      "execution_count": 40,
      "metadata": {
        "colab": {
          "base_uri": "https://localhost:8080/",
          "height": 488
        },
        "id": "O2joMNbqPNeh",
        "outputId": "ae1d19f2-e06f-4270-baa0-5cd1fa816b45"
      },
      "outputs": [
        {
          "data": {
            "image/png": "[encoded data removed]",
            "text/plain": [
              "<Figure size 640x480 with 1 Axes>"
            ]
          },
          "metadata": {},
          "output_type": "display_data"
        }
      ],
      "source": [
        "data['Log Price'] = np.log(data['Price'])\n",
        "sns.histplot(data, x='Log Price')\n",
        "plt.show()"
      ]
    },
    {
      "cell_type": "markdown",
      "metadata": {
        "id": "EpxAHFX9XSG2"
      },
      "source": [
        "### 1.2 Separação em Treino/Teste\n",
        "\n",
        "Aqui, há a separação dos dados em treino e teste. Essa separação é feita antes da análise exploratória para que não haja vazamento de dados na engenharia de atributos. Assim, os dados de teste não são utilizados para a análise exploratória, e são utilizados apenas para a avaliação do modelo. Dessa maneira, é emulado um cenário real, em que o modelo é treinado com dados passados e testado com dados futuros.\n",
        "\n",
        "Foi definido que os dados de teste representam 20% do total de dados disponíveis. Foi utilizado o atributo `random_state`, do `scikit-learn`, para que a separação seja sempre a mesma (em rodadas futuras do script), e não haja variação nos resultados."
      ]
    },
    {
      "cell_type": "code",
      "execution_count": 41,
      "metadata": {
        "id": "Oz5csPowXjuG"
      },
      "outputs": [
        {
          "data": {
            "text/html": [
              "<div>\n",
              "<style scoped>\n",
              "    .dataframe tbody tr th:only-of-type {\n",
              "        vertical-align: middle;\n",
              "    }\n",
              "\n",
              "    .dataframe tbody tr th {\n",
              "        vertical-align: top;\n",
              "    }\n",
              "\n",
              "    .dataframe thead th {\n",
              "        text-align: right;\n",
              "    }\n",
              "</style>\n",
              "<table border=\"1\" class=\"dataframe\">\n",
              "  <thead>\n",
              "    <tr style=\"text-align: right;\">\n",
              "      <th></th>\n",
              "      <th>Price</th>\n",
              "      <th>Location</th>\n",
              "      <th>Postal Code</th>\n",
              "      <th>Area</th>\n",
              "      <th>Bedrooms</th>\n",
              "      <th>Bathrooms</th>\n",
              "      <th>Receptions</th>\n",
              "      <th>City-County</th>\n",
              "      <th>House-Type</th>\n",
              "      <th>Log Price</th>\n",
              "    </tr>\n",
              "  </thead>\n",
              "  <tbody>\n",
              "    <tr>\n",
              "      <th>2040</th>\n",
              "      <td>1295000</td>\n",
              "      <td>Northwood</td>\n",
              "      <td>HA6 2TA</td>\n",
              "      <td>2055</td>\n",
              "      <td>4</td>\n",
              "      <td>4</td>\n",
              "      <td>4</td>\n",
              "      <td>Middlesex</td>\n",
              "      <td>House</td>\n",
              "      <td>14.074021</td>\n",
              "    </tr>\n",
              "    <tr>\n",
              "      <th>1667</th>\n",
              "      <td>2500000</td>\n",
              "      <td>NaN</td>\n",
              "      <td>SW11 4EN</td>\n",
              "      <td>2235</td>\n",
              "      <td>5</td>\n",
              "      <td>5</td>\n",
              "      <td>5</td>\n",
              "      <td>London</td>\n",
              "      <td>House</td>\n",
              "      <td>14.731801</td>\n",
              "    </tr>\n",
              "    <tr>\n",
              "      <th>2050</th>\n",
              "      <td>2850000</td>\n",
              "      <td>Tadworth</td>\n",
              "      <td>KT20 6HZ</td>\n",
              "      <td>5380</td>\n",
              "      <td>6</td>\n",
              "      <td>6</td>\n",
              "      <td>6</td>\n",
              "      <td>Surrey</td>\n",
              "      <td>House</td>\n",
              "      <td>14.862830</td>\n",
              "    </tr>\n",
              "    <tr>\n",
              "      <th>744</th>\n",
              "      <td>3500000</td>\n",
              "      <td>Islington</td>\n",
              "      <td>N1 2HW</td>\n",
              "      <td>2216</td>\n",
              "      <td>4</td>\n",
              "      <td>4</td>\n",
              "      <td>4</td>\n",
              "      <td>London</td>\n",
              "      <td>House</td>\n",
              "      <td>15.068274</td>\n",
              "    </tr>\n",
              "    <tr>\n",
              "      <th>2683</th>\n",
              "      <td>1950000</td>\n",
              "      <td>NaN</td>\n",
              "      <td>SW11 4PT</td>\n",
              "      <td>2090</td>\n",
              "      <td>4</td>\n",
              "      <td>4</td>\n",
              "      <td>4</td>\n",
              "      <td>London</td>\n",
              "      <td>House</td>\n",
              "      <td>14.483340</td>\n",
              "    </tr>\n",
              "  </tbody>\n",
              "</table>\n",
              "</div>"
            ],
            "text/plain": [
              "        Price   Location Postal Code  Area  Bedrooms  Bathrooms  Receptions  \\\n",
              "2040  1295000  Northwood     HA6 2TA  2055         4          4           4   \n",
              "1667  2500000        NaN    SW11 4EN  2235         5          5           5   \n",
              "2050  2850000   Tadworth    KT20 6HZ  5380         6          6           6   \n",
              "744   3500000  Islington      N1 2HW  2216         4          4           4   \n",
              "2683  1950000        NaN    SW11 4PT  2090         4          4           4   \n",
              "\n",
              "     City-County House-Type  Log Price  \n",
              "2040   Middlesex      House  14.074021  \n",
              "1667      London      House  14.731801  \n",
              "2050      Surrey      House  14.862830  \n",
              "744       London      House  15.068274  \n",
              "2683      London      House  14.483340  "
            ]
          },
          "execution_count": 41,
          "metadata": {},
          "output_type": "execute_result"
        }
      ],
      "source": [
        "from sklearn.model_selection import train_test_split\n",
        "\n",
        "# target_variable = 'Price'\n",
        "target_variable = 'Log Price'\n",
        "\n",
        "X = data.drop(columns=target_variable)\n",
        "y = data[target_variable]\n",
        "X_train, X_test, y_train, y_test = train_test_split(\n",
        "    X,\n",
        "    y,\n",
        "    test_size = 0.2,\n",
        "    random_state=23\n",
        ")\n",
        "train = pd.concat([X_train, y_train], axis='columns')\n",
        "train.head()"
      ]
    },
    {
      "cell_type": "markdown",
      "metadata": {},
      "source": [
        "Agora, há somente 2366 linhas no conjunto de dados de treino."
      ]
    },
    {
      "cell_type": "code",
      "execution_count": 42,
      "metadata": {},
      "outputs": [
        {
          "name": "stdout",
          "output_type": "stream",
          "text": [
            "<class 'pandas.core.frame.DataFrame'>\n",
            "Index: 2366 entries, 2040 to 595\n",
            "Data columns (total 10 columns):\n",
            " #   Column       Non-Null Count  Dtype   \n",
            "---  ------       --------------  -----   \n",
            " 0   Price        2366 non-null   int64   \n",
            " 1   Location     1685 non-null   category\n",
            " 2   Postal Code  2366 non-null   category\n",
            " 3   Area         2366 non-null   int64   \n",
            " 4   Bedrooms     2366 non-null   int64   \n",
            " 5   Bathrooms    2366 non-null   int64   \n",
            " 6   Receptions   2366 non-null   int64   \n",
            " 7   City-County  2366 non-null   category\n",
            " 8   House-Type   2366 non-null   category\n",
            " 9   Log Price    2366 non-null   float64 \n",
            "dtypes: category(4), float64(1), int64(5)\n",
            "memory usage: 250.7 KB\n"
          ]
        }
      ],
      "source": [
        "train.info()"
      ]
    },
    {
      "cell_type": "markdown",
      "metadata": {
        "id": "XFckFIxaI7pa"
      },
      "source": [
        "### 1.3 Valores Faltantes\n",
        "Antes de realizar imputação de variáveis, devemos observar qual a proporção de valores faltantes nos dados apresentados. Isso é necessário pois etapas de inserção de dados faltantes funcionam melhor quando a porcentagem de valores faltantes é menor que 10% do conjunto de dados. Assim, analisamos a proporção de dados faltantes em cada coluna."
      ]
    },
    {
      "cell_type": "code",
      "execution_count": 43,
      "metadata": {
        "colab": {
          "base_uri": "https://localhost:8080/"
        },
        "id": "H8QvXkQrI58k",
        "outputId": "3bec4959-0332-42cd-9dd7-0b22a13950ba"
      },
      "outputs": [
        {
          "data": {
            "text/plain": [
              "Price          0.000000\n",
              "Location       0.287828\n",
              "Postal Code    0.000000\n",
              "Area           0.000000\n",
              "Bedrooms       0.000000\n",
              "Bathrooms      0.000000\n",
              "Receptions     0.000000\n",
              "City-County    0.000000\n",
              "House-Type     0.000000\n",
              "dtype: float64"
            ]
          },
          "execution_count": 43,
          "metadata": {},
          "output_type": "execute_result"
        }
      ],
      "source": [
        "X_train.isna().sum() / len(X_train)"
      ]
    },
    {
      "cell_type": "markdown",
      "metadata": {
        "id": "S137T8lQKUDQ"
      },
      "source": [
        "Podemos decidir usar a variável Location com $28.8\\%$ de dados faltantes, e realizar um método de imputação. O método de imputação será feito na etapa de formação do modelo, em que será utilizado um `Pipeline` no `scikit-learn` para realizar a imputação e a formação do modelo em um único passo."
      ]
    },
    {
      "cell_type": "markdown",
      "metadata": {},
      "source": [
        "### 1.4 Análise exploratória dos dados\n",
        "\n",
        "Aqui, vamos fazer uma pequena análise exploratória dos dados, com o intuito de conhecer melhor a base de dados e ajudar nos processos de modelagem que serão desenvolvidos em sequência. A ideia é tentar inferir, visualmente, intuição sobre os dados e a relação entre as colunas e a variável alvo `Price`."
      ]
    },
    {
      "cell_type": "code",
      "execution_count": 44,
      "metadata": {
        "id": "HKzOG_h2N1ax"
      },
      "outputs": [],
      "source": [
        "train = pd.concat([X_train,y_train], axis='columns')"
      ]
    },
    {
      "cell_type": "code",
      "execution_count": 45,
      "metadata": {
        "id": "C526ne-vMvd2"
      },
      "outputs": [
        {
          "name": "stderr",
          "output_type": "stream",
          "text": [
            "/Users/kowalks/dev/cmc13-exame/env/lib/python3.11/site-packages/seaborn/axisgrid.py:118: UserWarning: The figure layout has changed to tight\n",
            "  self._figure.tight_layout(*args, **kwargs)\n"
          ]
        },
        {
          "data": {
            "text/plain": [
              "<seaborn.axisgrid.FacetGrid at 0x2a428c4d0>"
            ]
          },
          "execution_count": 45,
          "metadata": {},
          "output_type": "execute_result"
        },
        {
          "data": {
            "image/png": "[encoded data removed]",
            "text/plain": [
              "<Figure size 500x500 with 1 Axes>"
            ]
          },
          "metadata": {},
          "output_type": "display_data"
        }
      ],
      "source": [
        "sns.catplot(data = train, x = 'Location', y = 'Log Price', kind='box')\n",
        "#TODO: ajeitar isso"
      ]
    },
    {
      "cell_type": "code",
      "execution_count": 46,
      "metadata": {
        "colab": {
          "base_uri": "https://localhost:8080/"
        },
        "id": "Pil9MouyS5e2",
        "outputId": "b246615b-6dbb-485a-fe7a-2f34307f40eb"
      },
      "outputs": [
        {
          "data": {
            "text/plain": [
              "Price             int64\n",
              "Location       category\n",
              "Postal Code    category\n",
              "Area              int64\n",
              "Bedrooms          int64\n",
              "Bathrooms         int64\n",
              "Receptions        int64\n",
              "City-County    category\n",
              "House-Type     category\n",
              "Log Price       float64\n",
              "dtype: object"
            ]
          },
          "execution_count": 46,
          "metadata": {},
          "output_type": "execute_result"
        }
      ],
      "source": [
        "train.dtypes"
      ]
    },
    {
      "cell_type": "code",
      "execution_count": 47,
      "metadata": {},
      "outputs": [
        {
          "data": {
            "text/html": [
              "<div>\n",
              "<style scoped>\n",
              "    .dataframe tbody tr th:only-of-type {\n",
              "        vertical-align: middle;\n",
              "    }\n",
              "\n",
              "    .dataframe tbody tr th {\n",
              "        vertical-align: top;\n",
              "    }\n",
              "\n",
              "    .dataframe thead th {\n",
              "        text-align: right;\n",
              "    }\n",
              "</style>\n",
              "<table border=\"1\" class=\"dataframe\">\n",
              "  <thead>\n",
              "    <tr style=\"text-align: right;\">\n",
              "      <th></th>\n",
              "      <th>Price</th>\n",
              "      <th>Location</th>\n",
              "      <th>Postal Code</th>\n",
              "      <th>Area</th>\n",
              "      <th>Bedrooms</th>\n",
              "      <th>Bathrooms</th>\n",
              "      <th>Receptions</th>\n",
              "      <th>City-County</th>\n",
              "      <th>House-Type</th>\n",
              "      <th>Log Price</th>\n",
              "    </tr>\n",
              "  </thead>\n",
              "  <tbody>\n",
              "    <tr>\n",
              "      <th>2040</th>\n",
              "      <td>1295000</td>\n",
              "      <td>Northwood</td>\n",
              "      <td>HA6 2TA</td>\n",
              "      <td>2055</td>\n",
              "      <td>4</td>\n",
              "      <td>4</td>\n",
              "      <td>4</td>\n",
              "      <td>Middlesex</td>\n",
              "      <td>House</td>\n",
              "      <td>14.074021</td>\n",
              "    </tr>\n",
              "    <tr>\n",
              "      <th>1667</th>\n",
              "      <td>2500000</td>\n",
              "      <td>NaN</td>\n",
              "      <td>SW11 4EN</td>\n",
              "      <td>2235</td>\n",
              "      <td>5</td>\n",
              "      <td>5</td>\n",
              "      <td>5</td>\n",
              "      <td>London</td>\n",
              "      <td>House</td>\n",
              "      <td>14.731801</td>\n",
              "    </tr>\n",
              "    <tr>\n",
              "      <th>2050</th>\n",
              "      <td>2850000</td>\n",
              "      <td>Tadworth</td>\n",
              "      <td>KT20 6HZ</td>\n",
              "      <td>5380</td>\n",
              "      <td>6</td>\n",
              "      <td>6</td>\n",
              "      <td>6</td>\n",
              "      <td>Surrey</td>\n",
              "      <td>House</td>\n",
              "      <td>14.862830</td>\n",
              "    </tr>\n",
              "    <tr>\n",
              "      <th>744</th>\n",
              "      <td>3500000</td>\n",
              "      <td>Islington</td>\n",
              "      <td>N1 2HW</td>\n",
              "      <td>2216</td>\n",
              "      <td>4</td>\n",
              "      <td>4</td>\n",
              "      <td>4</td>\n",
              "      <td>London</td>\n",
              "      <td>House</td>\n",
              "      <td>15.068274</td>\n",
              "    </tr>\n",
              "    <tr>\n",
              "      <th>2683</th>\n",
              "      <td>1950000</td>\n",
              "      <td>NaN</td>\n",
              "      <td>SW11 4PT</td>\n",
              "      <td>2090</td>\n",
              "      <td>4</td>\n",
              "      <td>4</td>\n",
              "      <td>4</td>\n",
              "      <td>London</td>\n",
              "      <td>House</td>\n",
              "      <td>14.483340</td>\n",
              "    </tr>\n",
              "    <tr>\n",
              "      <th>...</th>\n",
              "      <td>...</td>\n",
              "      <td>...</td>\n",
              "      <td>...</td>\n",
              "      <td>...</td>\n",
              "      <td>...</td>\n",
              "      <td>...</td>\n",
              "      <td>...</td>\n",
              "      <td>...</td>\n",
              "      <td>...</td>\n",
              "      <td>...</td>\n",
              "    </tr>\n",
              "    <tr>\n",
              "      <th>1512</th>\n",
              "      <td>630000</td>\n",
              "      <td>Ealing</td>\n",
              "      <td>W5 3HJ</td>\n",
              "      <td>904</td>\n",
              "      <td>2</td>\n",
              "      <td>2</td>\n",
              "      <td>2</td>\n",
              "      <td>London</td>\n",
              "      <td>New development</td>\n",
              "      <td>13.353475</td>\n",
              "    </tr>\n",
              "    <tr>\n",
              "      <th>1993</th>\n",
              "      <td>495000</td>\n",
              "      <td>NaN</td>\n",
              "      <td>SW18 2HQ</td>\n",
              "      <td>693</td>\n",
              "      <td>1</td>\n",
              "      <td>1</td>\n",
              "      <td>1</td>\n",
              "      <td>London</td>\n",
              "      <td>Flat / Apartment</td>\n",
              "      <td>13.112313</td>\n",
              "    </tr>\n",
              "    <tr>\n",
              "      <th>1064</th>\n",
              "      <td>2850000</td>\n",
              "      <td>55 Primrose Hill Road</td>\n",
              "      <td>NW3 3EA</td>\n",
              "      <td>1752</td>\n",
              "      <td>2</td>\n",
              "      <td>2</td>\n",
              "      <td>2</td>\n",
              "      <td>London</td>\n",
              "      <td>Flat / Apartment</td>\n",
              "      <td>14.862830</td>\n",
              "    </tr>\n",
              "    <tr>\n",
              "      <th>742</th>\n",
              "      <td>1750000</td>\n",
              "      <td>Marylebone</td>\n",
              "      <td>W1H 4DR</td>\n",
              "      <td>1224</td>\n",
              "      <td>3</td>\n",
              "      <td>3</td>\n",
              "      <td>3</td>\n",
              "      <td>London</td>\n",
              "      <td>House</td>\n",
              "      <td>14.375126</td>\n",
              "    </tr>\n",
              "    <tr>\n",
              "      <th>595</th>\n",
              "      <td>1450000</td>\n",
              "      <td>Surbiton</td>\n",
              "      <td>KT6 5BX</td>\n",
              "      <td>2523</td>\n",
              "      <td>4</td>\n",
              "      <td>4</td>\n",
              "      <td>4</td>\n",
              "      <td>Surrey</td>\n",
              "      <td>House</td>\n",
              "      <td>14.187074</td>\n",
              "    </tr>\n",
              "  </tbody>\n",
              "</table>\n",
              "<p>2366 rows × 10 columns</p>\n",
              "</div>"
            ],
            "text/plain": [
              "        Price               Location Postal Code  Area  Bedrooms  Bathrooms  \\\n",
              "2040  1295000              Northwood     HA6 2TA  2055         4          4   \n",
              "1667  2500000                    NaN    SW11 4EN  2235         5          5   \n",
              "2050  2850000               Tadworth    KT20 6HZ  5380         6          6   \n",
              "744   3500000              Islington      N1 2HW  2216         4          4   \n",
              "2683  1950000                    NaN    SW11 4PT  2090         4          4   \n",
              "...       ...                    ...         ...   ...       ...        ...   \n",
              "1512   630000                 Ealing      W5 3HJ   904         2          2   \n",
              "1993   495000                    NaN    SW18 2HQ   693         1          1   \n",
              "1064  2850000  55 Primrose Hill Road     NW3 3EA  1752         2          2   \n",
              "742   1750000             Marylebone     W1H 4DR  1224         3          3   \n",
              "595   1450000               Surbiton     KT6 5BX  2523         4          4   \n",
              "\n",
              "      Receptions City-County        House-Type  Log Price  \n",
              "2040           4   Middlesex             House  14.074021  \n",
              "1667           5      London             House  14.731801  \n",
              "2050           6      Surrey             House  14.862830  \n",
              "744            4      London             House  15.068274  \n",
              "2683           4      London             House  14.483340  \n",
              "...          ...         ...               ...        ...  \n",
              "1512           2      London   New development  13.353475  \n",
              "1993           1      London  Flat / Apartment  13.112313  \n",
              "1064           2      London  Flat / Apartment  14.862830  \n",
              "742            3      London             House  14.375126  \n",
              "595            4      Surrey             House  14.187074  \n",
              "\n",
              "[2366 rows x 10 columns]"
            ]
          },
          "execution_count": 47,
          "metadata": {},
          "output_type": "execute_result"
        }
      ],
      "source": [
        "train"
      ]
    },
    {
      "cell_type": "code",
      "execution_count": 48,
      "metadata": {
        "colab": {
          "base_uri": "https://localhost:8080/",
          "height": 507
        },
        "id": "I8O8CbIsP_od",
        "outputId": "124c8c22-4bd5-41ae-94ec-aa96084fab1f"
      },
      "outputs": [
        {
          "data": {
            "text/plain": [
              "<Axes: >"
            ]
          },
          "execution_count": 48,
          "metadata": {},
          "output_type": "execute_result"
        },
        {
          "data": {
            "image/png": "[encoded data removed]",
            "text/plain": [
              "<Figure size 640x480 with 2 Axes>"
            ]
          },
          "metadata": {},
          "output_type": "display_data"
        }
      ],
      "source": [
        "# Compute the correlation matrix\n",
        "correlation_matrix = train.corr(numeric_only=True)\n",
        "\n",
        "# Create a heatmap of the correlation matrix\n",
        "sns.heatmap(correlation_matrix, annot=True, cmap='coolwarm')"
      ]
    },
    {
      "cell_type": "markdown",
      "metadata": {
        "id": "Cod4Z0ydQehV"
      },
      "source": [
        "TODO: Escrever alguma coisa. Verificar se queremos deletar algumas redundâncias."
      ]
    },
    {
      "cell_type": "markdown",
      "metadata": {
        "id": "TVSDe7Ka44vc"
      },
      "source": [
        "### 2. Modelo baseado em Árvores de Decisão ou Em Florestas Aleatórias (Random Forests)\n",
        "\n",
        "Aqui, vamos fazer a formação de um modelo baseado em árvores de decisão ou em florestas aleatórias. A ideia é utilizar um modelo simples, que não necessite de muitos ajustes, para servir de baseline para os modelos mais complexos que serão desenvolvidos em seguida. Para fazer o ajuste dos hiperparâmetros, vamos fazer uma busca em grid (GridSearch). Para isso, vamos utilizar o método de validação cruzada (cross-validation) para avaliar o desempenho do modelo. O método de validação cruzada é utilizado para evitar o overfitting do modelo, e é feito dividindo o conjunto de treino em $k$ partes, e treinando o modelo em $k-1$ partes e testando em 1 parte. Esse processo é feito $k$ vezes, e o resultado final é a média dos resultados de cada iteração."
      ]
    },
    {
      "cell_type": "code",
      "execution_count": 49,
      "metadata": {
        "colab": {
          "base_uri": "https://localhost:8080/"
        },
        "id": "GOd7XaeuTqqY",
        "outputId": "fc9987ec-26ff-4c42-ca74-b1fb5eafeabb"
      },
      "outputs": [
        {
          "name": "stdout",
          "output_type": "stream",
          "text": [
            "{'RF__n_estimators': [200, 400, 600, 800, 1000], 'RF__max_features': ['log2', 'sqrt'], 'RF__min_samples_split': [2, 5, 10], 'RF__min_samples_leaf': [1, 2, 4]}\n"
          ]
        }
      ],
      "source": [
        "n_estimators = [int(x) for x in np.linspace(start = 200, stop = 1000, num = 5)]\n",
        "# Number of features to consider at every split\n",
        "max_features = ['log2', 'sqrt']\n",
        "# Maximum number of levels in tree\n",
        "# max_depth = [int(x) for x in np.linspace(10, 110, num = 11)]\n",
        "# max_depth.append(None)\n",
        "# Minimum number of samples required to split a node\n",
        "min_samples_split = [2, 5, 10]\n",
        "# Minimum number of samples required at each leaf node\n",
        "min_samples_leaf = [1, 2, 4]\n",
        "# Method of selecting samples for training each tree\n",
        "# bootstrap = [True, False]\n",
        "# Create the random grid\n",
        "random_grid = {'RF__n_estimators': n_estimators,\n",
        "               'RF__max_features': max_features,\n",
        "              #  'RF__max_depth': max_depth,\n",
        "               'RF__min_samples_split': min_samples_split,\n",
        "               'RF__min_samples_leaf': min_samples_leaf,\n",
        "              #  'RF__bootstrap': bootstrap\n",
        "               }\n",
        "print(random_grid)"
      ]
    },
    {
      "cell_type": "markdown",
      "metadata": {},
      "source": [
        "Criação da pipeline de Random Forest incluindo métodos de imputação e codificação de variáveis aleatórias."
      ]
    },
    {
      "cell_type": "code",
      "execution_count": 50,
      "metadata": {
        "id": "0ZUGEDuwMGDr"
      },
      "outputs": [],
      "source": [
        "from sklearn.pipeline import Pipeline\n",
        "from sklearn.model_selection import GridSearchCV\n",
        "\n",
        "# for feature engineering\n",
        "from feature_engine import imputation as mdi\n",
        "from feature_engine import encoding as ce\n",
        "from sklearn import metrics\n",
        "from sklearn.ensemble import RandomForestRegressor\n",
        "\n",
        "# Imputação de valores faltantes em variáveis categóricas\n",
        "RF_pipeline = Pipeline([\n",
        "    # Imputação da variável categórica Location\n",
        "    ('imputer_cat', mdi.CategoricalImputer(variables='Location')),\n",
        "    # Encoding de labels raras\n",
        "    ('encoder_rare_label', ce.RareLabelEncoder(tol=0.01, n_categories=2, variables=category_columns)),\n",
        "    # Encoding de variáveis categóricas (One-Hot)\n",
        "    ('categorical_encoder', ce.OneHotEncoder(variables=category_columns)),\n",
        "    # Random Forest Regressor\n",
        "    ('RF', RandomForestRegressor(random_state=23))\n",
        "])"
      ]
    },
    {
      "cell_type": "markdown",
      "metadata": {},
      "source": [
        "Definição do Grid Search utilizado considerando a pipeline criada anteriormente e um KFLod de 5."
      ]
    },
    {
      "cell_type": "code",
      "execution_count": 51,
      "metadata": {
        "id": "cY85PNPhaSm-"
      },
      "outputs": [],
      "source": [
        "from sklearn.model_selection import KFold\n",
        "from sklearn.metrics import accuracy_score, make_scorer\n",
        "score_method = {\"MAPE\":'neg_mean_absolute_percentage_error', \"RMSE\":\"neg_root_mean_squared_error\",\"R2\":'r2'}\n",
        "scv = KFold()\n",
        "RF_grid_search = GridSearchCV(RF_pipeline,\n",
        "                              param_grid = random_grid,\n",
        "                              cv\n",
        "                              = scv,\n",
        "                              n_jobs = -1,\n",
        "                              scoring = score_method,\n",
        "                              refit = \"MAPE\")"
      ]
    },
    {
      "cell_type": "markdown",
      "metadata": {},
      "source": [
        "Treinamento da pipeline com o Grid Search."
      ]
    },
    {
      "cell_type": "code",
      "execution_count": 52,
      "metadata": {
        "colab": {
          "base_uri": "https://localhost:8080/",
          "height": 308
        },
        "id": "OnI0ofksXSTT",
        "outputId": "6a651f83-c4a0-4492-d0b8-7d2efaaf6317"
      },
      "outputs": [
        {
          "data": {
            "text/html": [
              "<style>#sk-container-id-1 {color: black;}#sk-container-id-1 pre{padding: 0;}#sk-container-id-1 div.sk-toggleable {background-color: white;}#sk-container-id-1 label.sk-toggleable__label {cursor: pointer;display: block;width: 100%;margin-bottom: 0;padding: 0.3em;box-sizing: border-box;text-align: center;}#sk-container-id-1 label.sk-toggleable__label-arrow:before {content: \"▸\";float: left;margin-right: 0.25em;color: #696969;}#sk-container-id-1 label.sk-toggleable__label-arrow:hover:before {color: black;}#sk-container-id-1 div.sk-estimator:hover label.sk-toggleable__label-arrow:before {color: black;}#sk-container-id-1 div.sk-toggleable__content {max-height: 0;max-width: 0;overflow: hidden;text-align: left;background-color: #f0f8ff;}#sk-container-id-1 div.sk-toggleable__content pre {margin: 0.2em;color: black;border-radius: 0.25em;background-color: #f0f8ff;}#sk-container-id-1 input.sk-toggleable__control:checked~div.sk-toggleable__content {max-height: 200px;max-width: 100%;overflow: auto;}#sk-container-id-1 input.sk-toggleable__control:checked~label.sk-toggleable__label-arrow:before {content: \"▾\";}#sk-container-id-1 div.sk-estimator input.sk-toggleable__control:checked~label.sk-toggleable__label {background-color: #d4ebff;}#sk-container-id-1 div.sk-label input.sk-toggleable__control:checked~label.sk-toggleable__label {background-color: #d4ebff;}#sk-container-id-1 input.sk-hidden--visually {border: 0;clip: rect(1px 1px 1px 1px);clip: rect(1px, 1px, 1px, 1px);height: 1px;margin: -1px;overflow: hidden;padding: 0;position: absolute;width: 1px;}#sk-container-id-1 div.sk-estimator {font-family: monospace;background-color: #f0f8ff;border: 1px dotted black;border-radius: 0.25em;box-sizing: border-box;margin-bottom: 0.5em;}#sk-container-id-1 div.sk-estimator:hover {background-color: #d4ebff;}#sk-container-id-1 div.sk-parallel-item::after {content: \"\";width: 100%;border-bottom: 1px solid gray;flex-grow: 1;}#sk-container-id-1 div.sk-label:hover label.sk-toggleable__label {background-color: #d4ebff;}#sk-container-id-1 div.sk-serial::before {content: \"\";position: absolute;border-left: 1px solid gray;box-sizing: border-box;top: 0;bottom: 0;left: 50%;z-index: 0;}#sk-container-id-1 div.sk-serial {display: flex;flex-direction: column;align-items: center;background-color: white;padding-right: 0.2em;padding-left: 0.2em;position: relative;}#sk-container-id-1 div.sk-item {position: relative;z-index: 1;}#sk-container-id-1 div.sk-parallel {display: flex;align-items: stretch;justify-content: center;background-color: white;position: relative;}#sk-container-id-1 div.sk-item::before, #sk-container-id-1 div.sk-parallel-item::before {content: \"\";position: absolute;border-left: 1px solid gray;box-sizing: border-box;top: 0;bottom: 0;left: 50%;z-index: -1;}#sk-container-id-1 div.sk-parallel-item {display: flex;flex-direction: column;z-index: 1;position: relative;background-color: white;}#sk-container-id-1 div.sk-parallel-item:first-child::after {align-self: flex-end;width: 50%;}#sk-container-id-1 div.sk-parallel-item:last-child::after {align-self: flex-start;width: 50%;}#sk-container-id-1 div.sk-parallel-item:only-child::after {width: 0;}#sk-container-id-1 div.sk-dashed-wrapped {border: 1px dashed gray;margin: 0 0.4em 0.5em 0.4em;box-sizing: border-box;padding-bottom: 0.4em;background-color: white;}#sk-container-id-1 div.sk-label label {font-family: monospace;font-weight: bold;display: inline-block;line-height: 1.2em;}#sk-container-id-1 div.sk-label-container {text-align: center;}#sk-container-id-1 div.sk-container {/* jupyter's `normalize.less` sets `[hidden] { display: none; }` but bootstrap.min.css set `[hidden] { display: none !important; }` so we also need the `!important` here to be able to override the default hidden behavior on the sphinx rendered scikit-learn.org. See: https://github.com/scikit-learn/scikit-learn/issues/21755 */display: inline-block !important;position: relative;}#sk-container-id-1 div.sk-text-repr-fallback {display: none;}</style><div id=\"sk-container-id-1\" class=\"sk-top-container\"><div class=\"sk-text-repr-fallback\"><pre>GridSearchCV(cv=KFold(n_splits=5, random_state=None, shuffle=False),\n",
              "             estimator=Pipeline(steps=[(&#x27;imputer_cat&#x27;,\n",
              "                                        CategoricalImputer(variables=&#x27;Location&#x27;)),\n",
              "                                       (&#x27;encoder_rare_label&#x27;,\n",
              "                                        RareLabelEncoder(n_categories=2,\n",
              "                                                         tol=0.01,\n",
              "                                                         variables=[&#x27;Location&#x27;,\n",
              "                                                                    &#x27;Postal &#x27;\n",
              "                                                                    &#x27;Code&#x27;,\n",
              "                                                                    &#x27;City-County&#x27;,\n",
              "                                                                    &#x27;House-Type&#x27;])),\n",
              "                                       (&#x27;categorical_encoder&#x27;,\n",
              "                                        OneHotEncoder(variables=[&#x27;Location&#x27;,\n",
              "                                                                 &#x27;Postal Code&#x27;,\n",
              "                                                                 &#x27;City-County&#x27;,\n",
              "                                                                 &#x27;House-Type&#x27;])),\n",
              "                                       (&#x27;RF&#x27;,\n",
              "                                        RandomForestRegressor(random_state=23))]),\n",
              "             n_jobs=-1,\n",
              "             param_grid={&#x27;RF__max_features&#x27;: [&#x27;log2&#x27;, &#x27;sqrt&#x27;],\n",
              "                         &#x27;RF__min_samples_leaf&#x27;: [1, 2, 4],\n",
              "                         &#x27;RF__min_samples_split&#x27;: [2, 5, 10],\n",
              "                         &#x27;RF__n_estimators&#x27;: [200, 400, 600, 800, 1000]},\n",
              "             refit=&#x27;MAPE&#x27;,\n",
              "             scoring={&#x27;MAPE&#x27;: &#x27;neg_mean_absolute_percentage_error&#x27;, &#x27;R2&#x27;: &#x27;r2&#x27;,\n",
              "                      &#x27;RMSE&#x27;: &#x27;neg_root_mean_squared_error&#x27;})</pre><b>In a Jupyter environment, please rerun this cell to show the HTML representation or trust the notebook. <br />On GitHub, the HTML representation is unable to render, please try loading this page with nbviewer.org.</b></div><div class=\"sk-container\" hidden><div class=\"sk-item sk-dashed-wrapped\"><div class=\"sk-label-container\"><div class=\"sk-label sk-toggleable\"><input class=\"sk-toggleable__control sk-hidden--visually\" id=\"sk-estimator-id-1\" type=\"checkbox\" ><label for=\"sk-estimator-id-1\" class=\"sk-toggleable__label sk-toggleable__label-arrow\">GridSearchCV</label><div class=\"sk-toggleable__content\"><pre>GridSearchCV(cv=KFold(n_splits=5, random_state=None, shuffle=False),\n",
              "             estimator=Pipeline(steps=[(&#x27;imputer_cat&#x27;,\n",
              "                                        CategoricalImputer(variables=&#x27;Location&#x27;)),\n",
              "                                       (&#x27;encoder_rare_label&#x27;,\n",
              "                                        RareLabelEncoder(n_categories=2,\n",
              "                                                         tol=0.01,\n",
              "                                                         variables=[&#x27;Location&#x27;,\n",
              "                                                                    &#x27;Postal &#x27;\n",
              "                                                                    &#x27;Code&#x27;,\n",
              "                                                                    &#x27;City-County&#x27;,\n",
              "                                                                    &#x27;House-Type&#x27;])),\n",
              "                                       (&#x27;categorical_encoder&#x27;,\n",
              "                                        OneHotEncoder(variables=[&#x27;Location&#x27;,\n",
              "                                                                 &#x27;Postal Code&#x27;,\n",
              "                                                                 &#x27;City-County&#x27;,\n",
              "                                                                 &#x27;House-Type&#x27;])),\n",
              "                                       (&#x27;RF&#x27;,\n",
              "                                        RandomForestRegressor(random_state=23))]),\n",
              "             n_jobs=-1,\n",
              "             param_grid={&#x27;RF__max_features&#x27;: [&#x27;log2&#x27;, &#x27;sqrt&#x27;],\n",
              "                         &#x27;RF__min_samples_leaf&#x27;: [1, 2, 4],\n",
              "                         &#x27;RF__min_samples_split&#x27;: [2, 5, 10],\n",
              "                         &#x27;RF__n_estimators&#x27;: [200, 400, 600, 800, 1000]},\n",
              "             refit=&#x27;MAPE&#x27;,\n",
              "             scoring={&#x27;MAPE&#x27;: &#x27;neg_mean_absolute_percentage_error&#x27;, &#x27;R2&#x27;: &#x27;r2&#x27;,\n",
              "                      &#x27;RMSE&#x27;: &#x27;neg_root_mean_squared_error&#x27;})</pre></div></div></div><div class=\"sk-parallel\"><div class=\"sk-parallel-item\"><div class=\"sk-item\"><div class=\"sk-label-container\"><div class=\"sk-label sk-toggleable\"><input class=\"sk-toggleable__control sk-hidden--visually\" id=\"sk-estimator-id-2\" type=\"checkbox\" ><label for=\"sk-estimator-id-2\" class=\"sk-toggleable__label sk-toggleable__label-arrow\">estimator: Pipeline</label><div class=\"sk-toggleable__content\"><pre>Pipeline(steps=[(&#x27;imputer_cat&#x27;, CategoricalImputer(variables=&#x27;Location&#x27;)),\n",
              "                (&#x27;encoder_rare_label&#x27;,\n",
              "                 RareLabelEncoder(n_categories=2, tol=0.01,\n",
              "                                  variables=[&#x27;Location&#x27;, &#x27;Postal Code&#x27;,\n",
              "                                             &#x27;City-County&#x27;, &#x27;House-Type&#x27;])),\n",
              "                (&#x27;categorical_encoder&#x27;,\n",
              "                 OneHotEncoder(variables=[&#x27;Location&#x27;, &#x27;Postal Code&#x27;,\n",
              "                                          &#x27;City-County&#x27;, &#x27;House-Type&#x27;])),\n",
              "                (&#x27;RF&#x27;, RandomForestRegressor(random_state=23))])</pre></div></div></div><div class=\"sk-serial\"><div class=\"sk-item\"><div class=\"sk-serial\"><div class=\"sk-item\"><div class=\"sk-estimator sk-toggleable\"><input class=\"sk-toggleable__control sk-hidden--visually\" id=\"sk-estimator-id-3\" type=\"checkbox\" ><label for=\"sk-estimator-id-3\" class=\"sk-toggleable__label sk-toggleable__label-arrow\">CategoricalImputer</label><div class=\"sk-toggleable__content\"><pre>CategoricalImputer(variables=&#x27;Location&#x27;)</pre></div></div></div><div class=\"sk-item\"><div class=\"sk-estimator sk-toggleable\"><input class=\"sk-toggleable__control sk-hidden--visually\" id=\"sk-estimator-id-4\" type=\"checkbox\" ><label for=\"sk-estimator-id-4\" class=\"sk-toggleable__label sk-toggleable__label-arrow\">RareLabelEncoder</label><div class=\"sk-toggleable__content\"><pre>RareLabelEncoder(n_categories=2, tol=0.01,\n",
              "                 variables=[&#x27;Location&#x27;, &#x27;Postal Code&#x27;, &#x27;City-County&#x27;,\n",
              "                            &#x27;House-Type&#x27;])</pre></div></div></div><div class=\"sk-item\"><div class=\"sk-estimator sk-toggleable\"><input class=\"sk-toggleable__control sk-hidden--visually\" id=\"sk-estimator-id-5\" type=\"checkbox\" ><label for=\"sk-estimator-id-5\" class=\"sk-toggleable__label sk-toggleable__label-arrow\">OneHotEncoder</label><div class=\"sk-toggleable__content\"><pre>OneHotEncoder(variables=[&#x27;Location&#x27;, &#x27;Postal Code&#x27;, &#x27;City-County&#x27;,\n",
              "                         &#x27;House-Type&#x27;])</pre></div></div></div><div class=\"sk-item\"><div class=\"sk-estimator sk-toggleable\"><input class=\"sk-toggleable__control sk-hidden--visually\" id=\"sk-estimator-id-6\" type=\"checkbox\" ><label for=\"sk-estimator-id-6\" class=\"sk-toggleable__label sk-toggleable__label-arrow\">RandomForestRegressor</label><div class=\"sk-toggleable__content\"><pre>RandomForestRegressor(random_state=23)</pre></div></div></div></div></div></div></div></div></div></div></div></div>"
            ],
            "text/plain": [
              "GridSearchCV(cv=KFold(n_splits=5, random_state=None, shuffle=False),\n",
              "             estimator=Pipeline(steps=[('imputer_cat',\n",
              "                                        CategoricalImputer(variables='Location')),\n",
              "                                       ('encoder_rare_label',\n",
              "                                        RareLabelEncoder(n_categories=2,\n",
              "                                                         tol=0.01,\n",
              "                                                         variables=['Location',\n",
              "                                                                    'Postal '\n",
              "                                                                    'Code',\n",
              "                                                                    'City-County',\n",
              "                                                                    'House-Type'])),\n",
              "                                       ('categorical_encoder',\n",
              "                                        OneHotEncoder(variables=['Location',\n",
              "                                                                 'Postal Code',\n",
              "                                                                 'City-County',\n",
              "                                                                 'House-Type'])),\n",
              "                                       ('RF',\n",
              "                                        RandomForestRegressor(random_state=23))]),\n",
              "             n_jobs=-1,\n",
              "             param_grid={'RF__max_features': ['log2', 'sqrt'],\n",
              "                         'RF__min_samples_leaf': [1, 2, 4],\n",
              "                         'RF__min_samples_split': [2, 5, 10],\n",
              "                         'RF__n_estimators': [200, 400, 600, 800, 1000]},\n",
              "             refit='MAPE',\n",
              "             scoring={'MAPE': 'neg_mean_absolute_percentage_error', 'R2': 'r2',\n",
              "                      'RMSE': 'neg_root_mean_squared_error'})"
            ]
          },
          "execution_count": 52,
          "metadata": {},
          "output_type": "execute_result"
        }
      ],
      "source": [
        "RF_grid_search.fit(X_train,y_train)"
      ]
    },
    {
      "cell_type": "markdown",
      "metadata": {},
      "source": [
        "Melhores parâmetros encontrados pelo Grid Search."
      ]
    },
    {
      "cell_type": "code",
      "execution_count": 53,
      "metadata": {
        "colab": {
          "base_uri": "https://localhost:8080/"
        },
        "id": "yddKVrFNXYCM",
        "outputId": "3c17a026-a8a3-4966-ee6d-b1208f5960c0"
      },
      "outputs": [
        {
          "data": {
            "text/plain": [
              "{'RF__max_features': 'sqrt',\n",
              " 'RF__min_samples_leaf': 1,\n",
              " 'RF__min_samples_split': 2,\n",
              " 'RF__n_estimators': 600}"
            ]
          },
          "execution_count": 53,
          "metadata": {},
          "output_type": "execute_result"
        }
      ],
      "source": [
        "RF_grid_search.best_params_\n"
      ]
    },
    {
      "cell_type": "markdown",
      "metadata": {},
      "source": [
        "Comparação das métricas de cada modelo fittado pelo Grid Search em termos do MAPE (Mean Absolute Percentual Error). Aqui, estamos analisando qual é o range de MAPEs possíveis nos modelos gerados pelo grid search com o kfold especificado.\n",
        "\n",
        "$\\text{MAPE}(y, \\hat{y}) = \\frac{100\\%}{N} \\sum_{i=0}^{N - 1} \\frac{|y_i - \\hat{y}_i|}{y_i}.$ "
      ]
    },
    {
      "cell_type": "code",
      "execution_count": 54,
      "metadata": {
        "id": "gCCWPk1iLyd2"
      },
      "outputs": [
        {
          "data": {
            "text/plain": [
              "<Axes: >"
            ]
          },
          "execution_count": 54,
          "metadata": {},
          "output_type": "execute_result"
        },
        {
          "data": {
            "image/png": "[encoded data removed]",
            "text/plain": [
              "<Figure size 640x480 with 1 Axes>"
            ]
          },
          "metadata": {},
          "output_type": "display_data"
        }
      ],
      "source": [
        "# Get the best estimator\n",
        "best_estimator = RF_grid_search.best_estimator_\n",
        "\n",
        "# Perform cross-validation and get the results\n",
        "cv_results = RF_grid_search.cv_results_\n",
        "\n",
        "sns.boxplot(y=(-1)*cv_results['mean_test_MAPE'])"
      ]
    },
    {
      "cell_type": "markdown",
      "metadata": {},
      "source": [
        "Agora, fazendo as métricas de avaliação do modelo. Aqui, vamos utilizar o conjunto de teste para avaliar o modelo. O conjunto de teste não foi utilizado em nenhum momento do processo de modelagem, e foi separado no início do processo. Assim, o modelo não foi treinado com os dados de teste, e não houve vazamento de dados."
      ]
    },
    {
      "cell_type": "code",
      "execution_count": 55,
      "metadata": {
        "id": "DZdCbh78IITM"
      },
      "outputs": [],
      "source": [
        "best_random = RF_grid_search.best_estimator_\n",
        "predictions_rf = best_random.predict(X_test)\n"
      ]
    },
    {
      "cell_type": "code",
      "execution_count": 56,
      "metadata": {
        "id": "_SMjb9awoOet"
      },
      "outputs": [],
      "source": [
        "def regression_metrics(model_predicted, y_test,model_name):\n",
        "    rmse_ = np.sqrt(metrics.mean_squared_error(model_predicted,y_test))\n",
        "    r2 = metrics.r2_score(y_test, model_predicted)\n",
        "    mape = metrics.mean_absolute_percentage_error(y_test, model_predicted)\n",
        "    print(model_name,\" RMSE: \", rmse_)\n",
        "    print(model_name,\"R2: \" + str(r2))\n",
        "    print(model_name,\"MAPE: \" + str(mape))\n",
        "    return rmse_, r2, mape\n",
        "\n",
        "def actual_vs_pred_plot(y_train,y_pred,model_name):\n",
        "\n",
        "    fig = plt.figure(figsize=(12,12))\n",
        "    fig, ax = plt.subplots()\n",
        "\n",
        "    ax.scatter(y_train, y_pred,color = \"teal\",edgecolor = 'lightblue')\n",
        "    ax.plot([y_train.min(),y_train.max()], [y_train.min(), y_train.max()], 'k--',lw=0.2)\n",
        "    ax.set_xlabel('Atual')\n",
        "    ax.set_ylabel('Predito')\n",
        "    plt.suptitle(model_name + ' - Actual vs Predicted Values',size=14)\n",
        "    plt.show()\n",
        "\n",
        "def model_dist_plot(y_test,y_pred,model_name):\n",
        "    plt.figure(figsize=(10,5))\n",
        "    sns.histplot(y_test, kde=False)\n",
        "    sns.histplot(y_pred, kde=False)\n",
        "    plt.title(model_name + ' - Distribution Plot')\n",
        "    plt.legend(labels=['', 'Actual Values of Price', '', 'Predicted Values of Price'])\n",
        "    # plt.xlim(0,)\n",
        "\n",
        "def model_residual_plot(test_Y,model_predicted,model_name):\n",
        "    residuals = test_Y - model_predicted\n",
        "    plt.scatter(model_predicted, residuals)\n",
        "    plt.axhline(y=0, color='r', linestyle='--')\n",
        "    plt.xlabel('Predicted Values')\n",
        "    plt.ylabel('Residuals')\n",
        "    plt.title(model_name + ' - Residual Plot')\n",
        "    plt.show()"
      ]
    },
    {
      "cell_type": "code",
      "execution_count": 57,
      "metadata": {
        "colab": {
          "base_uri": "https://localhost:8080/",
          "height": 1000
        },
        "id": "olH2E17jolNV",
        "outputId": "1eaf5c68-6371-438f-ba6f-6db52e1eaee0"
      },
      "outputs": [
        {
          "name": "stdout",
          "output_type": "stream",
          "text": [
            "Modelo de Random Forest\n",
            "Randomforest  RMSE:  0.11132081615410178\n",
            "Randomforest R2: 0.9750224557860722\n",
            "Randomforest MAPE: 0.0037609109329076844\n"
          ]
        },
        {
          "data": {
            "image/png": "[encoded data removed]",
            "text/plain": [
              "<Figure size 1000x500 with 1 Axes>"
            ]
          },
          "metadata": {},
          "output_type": "display_data"
        },
        {
          "data": {
            "text/plain": [
              "<Figure size 1200x1200 with 0 Axes>"
            ]
          },
          "metadata": {},
          "output_type": "display_data"
        },
        {
          "data": {
            "image/png": "[encoded data removed]",
            "text/plain": [
              "<Figure size 640x480 with 1 Axes>"
            ]
          },
          "metadata": {},
          "output_type": "display_data"
        },
        {
          "data": {
            "image/png": "[encoded data removed]",
            "text/plain": [
              "<Figure size 640x480 with 1 Axes>"
            ]
          },
          "metadata": {},
          "output_type": "display_data"
        }
      ],
      "source": [
        "print('Modelo de Random Forest')\n",
        "rmse, r2, mape = regression_metrics(predictions_rf, y_test,'Randomforest')\n",
        "\n",
        "model_dist_plot(y_test, predictions_rf, 'Randomforest')\n",
        "\n",
        "actual_vs_pred_plot(y_test, predictions_rf,'Randomforest')\n",
        "\n",
        "# Create residual plot\n",
        "model_residual_plot(y_test, predictions_rf, 'Randomforest')"
      ]
    },
    {
      "cell_type": "markdown",
      "metadata": {
        "id": "eKP47nQ34v-y"
      },
      "source": [
        "### 3. Modelo baseado em Redes Neurais do tipo MLP (MultiLayer Perceptron)\n",
        "\n",
        "Aqui, fazemos o treinamento do modelo com Redes Neurais do tipo MLP, utilizando o framework do sckit-learn e do Keras. A fim de comparação, será feita a análise somente com o do skit-learn, já que ele já implementa métricas mais adequadas para o problema de regressão."
      ]
    },
    {
      "cell_type": "markdown",
      "metadata": {},
      "source": [
        "#### 3.1 Rede Neural com Keras"
      ]
    },
    {
      "cell_type": "code",
      "execution_count": 58,
      "metadata": {
        "id": "SlglqCufK2Ao"
      },
      "outputs": [],
      "source": [
        "from tensorflow.keras import layers, activations, regularizers, optimizers, losses, metrics\n",
        "from tensorflow.keras.models import Sequential\n",
        "\n",
        "lambda_l2 = 0\n",
        "def create_model(input_shape):\n",
        "    model = Sequential()\n",
        "    model.add(layers.Dense(19, activation=activations.relu, input_shape=(input_shape, )))\n",
        "    model.add(layers.Dense(19, activation=activations.relu))\n",
        "    model.add(layers.Dense(19, activation=activations.relu))\n",
        "    model.add(layers.Dense(19, activation=activations.relu))\n",
        "    model.add(layers.Dense(1, activation=activations.linear))\n",
        "    model.summary()\n",
        "    model.compile(optimizer=\"adam\", loss=losses.mse, metrics=[\"accuracy\"])\n",
        "    return model"
      ]
    },
    {
      "cell_type": "code",
      "execution_count": 32,
      "metadata": {
        "id": "1PRjF0wEcAu2"
      },
      "outputs": [],
      "source": [
        "from sklearn.preprocessing import OneHotEncoder\n",
        "\n",
        "cat_columns = category_columns\n",
        "label_encoders = {}\n",
        "\n",
        "# One Hot encoder for train data X_train\n",
        "for col in cat_columns:\n",
        "    label_encoders[col] = OneHotEncoder(sparse_output=False, handle_unknown='ignore')\n",
        "    X_train[col] = label_encoders[col].fit_transform(X_train[col].values.reshape(-1, 1))\n",
        "    X_test[col] = label_encoders[col].transform(X_test[col].values.reshape(-1, 1))"
      ]
    },
    {
      "cell_type": "markdown",
      "metadata": {},
      "source": [
        "#### 3.2 Rede Neural com Scikit-Learn"
      ]
    },
    {
      "cell_type": "code",
      "execution_count": null,
      "metadata": {},
      "outputs": [],
      "source": [
        "from sklearn.neural_network import MLPRegressor\n",
        "\n",
        "# Imputação de valores faltantes em variáveis categóricas\n",
        "MLP_pipeline = Pipeline([\n",
        "    # Imputação da variável categórica Location\n",
        "    ('imputer_cat', mdi.CategoricalImputer(variables='Location')),\n",
        "    # Encoding de labels raras\n",
        "    ('encoder_rare_label', ce.RareLabelEncoder(tol=0.01, n_categories=2, variables=category_columns)),\n",
        "    # Encoding de variáveis categóricas (One-Hot)\n",
        "    ('categorical_encoder', ce.OneHotEncoder(variables=category_columns)),\n",
        "    # Random Forest Regressor\n",
        "    ('MLP', MLPRegressor(random_state=23))\n",
        "])\n",
        "\n",
        "hidden_layer_sizes = [2, 3, 4]\n",
        "activation = ['relu', 'tanh', 'logistic']\n",
        "alpha = [0.1, 0.01, 0.001]\n",
        "\n",
        "random_grid = {\n",
        "    'MLP__hidden_layer_sizes': hidden_layer_sizes,\n",
        "    'MLP__activation': activation,\n",
        "    'MLP__alpha': alpha,\n",
        "}\n",
        "print(random_grid)"
      ]
    },
    {
      "cell_type": "markdown",
      "metadata": {},
      "source": []
    },
    {
      "cell_type": "code",
      "execution_count": 59,
      "metadata": {},
      "outputs": [
        {
          "ename": "ValueError",
          "evalue": "Some of the variables in the dataset contain NaN. Check and remove those before using this transformer or set the parameter `missing_values='ignore'` when initialising this transformer.",
          "output_type": "error",
          "traceback": [
            "\u001b[0;31m---------------------------------------------------------------------------\u001b[0m",
            "\u001b[0;31mValueError\u001b[0m                                Traceback (most recent call last)",
            "Cell \u001b[0;32mIn[59], line 3\u001b[0m\n\u001b[1;32m      1\u001b[0m \u001b[39mfrom\u001b[39;00m \u001b[39mfeature_engine\u001b[39;00m \u001b[39mimport\u001b[39;00m encoding \u001b[39mas\u001b[39;00m ce\n\u001b[1;32m      2\u001b[0m ordinal_encoder \u001b[39m=\u001b[39m ce\u001b[39m.\u001b[39mOrdinalEncoder(encoding_method\u001b[39m=\u001b[39m\u001b[39m'\u001b[39m\u001b[39mordered\u001b[39m\u001b[39m'\u001b[39m,variables\u001b[39m=\u001b[39mcat_columns)\n\u001b[0;32m----> 3\u001b[0m ordinal_encoder\u001b[39m.\u001b[39;49mfit(X_train, y_train)\n\u001b[1;32m      4\u001b[0m train_X \u001b[39m=\u001b[39m ordinal_encoder\u001b[39m.\u001b[39mtransform(X_train)\n\u001b[1;32m      5\u001b[0m test_X \u001b[39m=\u001b[39m ordinal_encoder\u001b[39m.\u001b[39mtransform(X_test)\n",
            "File \u001b[0;32m~/dev/cmc13-exame/env/lib/python3.11/site-packages/feature_engine/encoding/ordinal.py:202\u001b[0m, in \u001b[0;36mOrdinalEncoder.fit\u001b[0;34m(self, X, y)\u001b[0m\n\u001b[1;32m    199\u001b[0m     X \u001b[39m=\u001b[39m check_X(X)\n\u001b[1;32m    201\u001b[0m variables_ \u001b[39m=\u001b[39m \u001b[39mself\u001b[39m\u001b[39m.\u001b[39m_check_or_select_variables(X)\n\u001b[0;32m--> 202\u001b[0m \u001b[39mself\u001b[39;49m\u001b[39m.\u001b[39;49m_check_na(X, variables_)\n\u001b[1;32m    204\u001b[0m \u001b[39mself\u001b[39m\u001b[39m.\u001b[39mencoder_dict_ \u001b[39m=\u001b[39m {}\n\u001b[1;32m    206\u001b[0m \u001b[39mfor\u001b[39;00m var \u001b[39min\u001b[39;00m variables_:\n",
            "File \u001b[0;32m~/dev/cmc13-exame/env/lib/python3.11/site-packages/feature_engine/encoding/base_encoder.py:113\u001b[0m, in \u001b[0;36mCategoricalMethodsMixin._check_na\u001b[0;34m(self, X, variables)\u001b[0m\n\u001b[1;32m    111\u001b[0m \u001b[39mdef\u001b[39;00m \u001b[39m_check_na\u001b[39m(\u001b[39mself\u001b[39m, X: pd\u001b[39m.\u001b[39mDataFrame, variables):\n\u001b[1;32m    112\u001b[0m     \u001b[39mif\u001b[39;00m \u001b[39mself\u001b[39m\u001b[39m.\u001b[39mmissing_values \u001b[39m==\u001b[39m \u001b[39m\"\u001b[39m\u001b[39mraise\u001b[39m\u001b[39m\"\u001b[39m:\n\u001b[0;32m--> 113\u001b[0m         _check_optional_contains_na(X, variables)\n",
            "File \u001b[0;32m~/dev/cmc13-exame/env/lib/python3.11/site-packages/feature_engine/dataframe_checks.py:292\u001b[0m, in \u001b[0;36m_check_optional_contains_na\u001b[0;34m(X, variables)\u001b[0m\n\u001b[1;32m    275\u001b[0m \u001b[39m\u001b[39m\u001b[39m\"\"\"\u001b[39;00m\n\u001b[1;32m    276\u001b[0m \u001b[39mChecks if DataFrame contains null values in the selected columns.\u001b[39;00m\n\u001b[1;32m    277\u001b[0m \n\u001b[0;32m   (...)\u001b[0m\n\u001b[1;32m    288\u001b[0m \u001b[39m    If the variable(s) contain null values.\u001b[39;00m\n\u001b[1;32m    289\u001b[0m \u001b[39m\"\"\"\u001b[39;00m\n\u001b[1;32m    291\u001b[0m \u001b[39mif\u001b[39;00m X[variables]\u001b[39m.\u001b[39misnull()\u001b[39m.\u001b[39many()\u001b[39m.\u001b[39many():\n\u001b[0;32m--> 292\u001b[0m     \u001b[39mraise\u001b[39;00m \u001b[39mValueError\u001b[39;00m(\n\u001b[1;32m    293\u001b[0m         \u001b[39m\"\u001b[39m\u001b[39mSome of the variables in the dataset contain NaN. Check and \u001b[39m\u001b[39m\"\u001b[39m\n\u001b[1;32m    294\u001b[0m         \u001b[39m\"\u001b[39m\u001b[39mremove those before using this transformer or set the parameter \u001b[39m\u001b[39m\"\u001b[39m\n\u001b[1;32m    295\u001b[0m         \u001b[39m\"\u001b[39m\u001b[39m`missing_values=\u001b[39m\u001b[39m'\u001b[39m\u001b[39mignore\u001b[39m\u001b[39m'\u001b[39m\u001b[39m` when initialising this transformer.\u001b[39m\u001b[39m\"\u001b[39m\n\u001b[1;32m    296\u001b[0m     )\n",
            "\u001b[0;31mValueError\u001b[0m: Some of the variables in the dataset contain NaN. Check and remove those before using this transformer or set the parameter `missing_values='ignore'` when initialising this transformer."
          ]
        }
      ],
      "source": [
        "from feature_engine import encoding as ce\n",
        "ordinal_encoder = ce.OrdinalEncoder(encoding_method='ordered',variables=cat_columns)\n",
        "ordinal_encoder.fit(X_train, y_train)\n",
        "train_X = ordinal_encoder.transform(X_train)\n",
        "test_X = ordinal_encoder.transform(X_test)"
      ]
    },
    {
      "cell_type": "code",
      "execution_count": 31,
      "metadata": {},
      "outputs": [
        {
          "data": {
            "text/html": [
              "<div>\n",
              "<style scoped>\n",
              "    .dataframe tbody tr th:only-of-type {\n",
              "        vertical-align: middle;\n",
              "    }\n",
              "\n",
              "    .dataframe tbody tr th {\n",
              "        vertical-align: top;\n",
              "    }\n",
              "\n",
              "    .dataframe thead th {\n",
              "        text-align: right;\n",
              "    }\n",
              "</style>\n",
              "<table border=\"1\" class=\"dataframe\">\n",
              "  <thead>\n",
              "    <tr style=\"text-align: right;\">\n",
              "      <th></th>\n",
              "      <th>Price</th>\n",
              "      <th>Location</th>\n",
              "      <th>Postal Code</th>\n",
              "      <th>Area</th>\n",
              "      <th>Bedrooms</th>\n",
              "      <th>Bathrooms</th>\n",
              "      <th>Receptions</th>\n",
              "      <th>City-County</th>\n",
              "      <th>House-Type</th>\n",
              "    </tr>\n",
              "  </thead>\n",
              "  <tbody>\n",
              "    <tr>\n",
              "      <th>2040</th>\n",
              "      <td>1295000</td>\n",
              "      <td>1.0</td>\n",
              "      <td>1.0</td>\n",
              "      <td>2055</td>\n",
              "      <td>1.0</td>\n",
              "      <td>1.0</td>\n",
              "      <td>1.0</td>\n",
              "      <td>1.0</td>\n",
              "      <td>1.0</td>\n",
              "    </tr>\n",
              "    <tr>\n",
              "      <th>1667</th>\n",
              "      <td>2500000</td>\n",
              "      <td>1.0</td>\n",
              "      <td>1.0</td>\n",
              "      <td>2235</td>\n",
              "      <td>1.0</td>\n",
              "      <td>1.0</td>\n",
              "      <td>1.0</td>\n",
              "      <td>1.0</td>\n",
              "      <td>1.0</td>\n",
              "    </tr>\n",
              "    <tr>\n",
              "      <th>2050</th>\n",
              "      <td>2850000</td>\n",
              "      <td>1.0</td>\n",
              "      <td>1.0</td>\n",
              "      <td>5380</td>\n",
              "      <td>1.0</td>\n",
              "      <td>1.0</td>\n",
              "      <td>1.0</td>\n",
              "      <td>1.0</td>\n",
              "      <td>1.0</td>\n",
              "    </tr>\n",
              "    <tr>\n",
              "      <th>744</th>\n",
              "      <td>3500000</td>\n",
              "      <td>1.0</td>\n",
              "      <td>1.0</td>\n",
              "      <td>2216</td>\n",
              "      <td>1.0</td>\n",
              "      <td>1.0</td>\n",
              "      <td>1.0</td>\n",
              "      <td>1.0</td>\n",
              "      <td>1.0</td>\n",
              "    </tr>\n",
              "    <tr>\n",
              "      <th>2683</th>\n",
              "      <td>1950000</td>\n",
              "      <td>1.0</td>\n",
              "      <td>1.0</td>\n",
              "      <td>2090</td>\n",
              "      <td>1.0</td>\n",
              "      <td>1.0</td>\n",
              "      <td>1.0</td>\n",
              "      <td>1.0</td>\n",
              "      <td>1.0</td>\n",
              "    </tr>\n",
              "    <tr>\n",
              "      <th>...</th>\n",
              "      <td>...</td>\n",
              "      <td>...</td>\n",
              "      <td>...</td>\n",
              "      <td>...</td>\n",
              "      <td>...</td>\n",
              "      <td>...</td>\n",
              "      <td>...</td>\n",
              "      <td>...</td>\n",
              "      <td>...</td>\n",
              "    </tr>\n",
              "    <tr>\n",
              "      <th>1512</th>\n",
              "      <td>630000</td>\n",
              "      <td>1.0</td>\n",
              "      <td>1.0</td>\n",
              "      <td>904</td>\n",
              "      <td>1.0</td>\n",
              "      <td>1.0</td>\n",
              "      <td>1.0</td>\n",
              "      <td>1.0</td>\n",
              "      <td>1.0</td>\n",
              "    </tr>\n",
              "    <tr>\n",
              "      <th>1993</th>\n",
              "      <td>495000</td>\n",
              "      <td>1.0</td>\n",
              "      <td>1.0</td>\n",
              "      <td>693</td>\n",
              "      <td>1.0</td>\n",
              "      <td>1.0</td>\n",
              "      <td>1.0</td>\n",
              "      <td>1.0</td>\n",
              "      <td>1.0</td>\n",
              "    </tr>\n",
              "    <tr>\n",
              "      <th>1064</th>\n",
              "      <td>2850000</td>\n",
              "      <td>1.0</td>\n",
              "      <td>1.0</td>\n",
              "      <td>1752</td>\n",
              "      <td>1.0</td>\n",
              "      <td>1.0</td>\n",
              "      <td>1.0</td>\n",
              "      <td>1.0</td>\n",
              "      <td>1.0</td>\n",
              "    </tr>\n",
              "    <tr>\n",
              "      <th>742</th>\n",
              "      <td>1750000</td>\n",
              "      <td>1.0</td>\n",
              "      <td>1.0</td>\n",
              "      <td>1224</td>\n",
              "      <td>1.0</td>\n",
              "      <td>1.0</td>\n",
              "      <td>1.0</td>\n",
              "      <td>1.0</td>\n",
              "      <td>1.0</td>\n",
              "    </tr>\n",
              "    <tr>\n",
              "      <th>595</th>\n",
              "      <td>1450000</td>\n",
              "      <td>1.0</td>\n",
              "      <td>1.0</td>\n",
              "      <td>2523</td>\n",
              "      <td>1.0</td>\n",
              "      <td>1.0</td>\n",
              "      <td>1.0</td>\n",
              "      <td>1.0</td>\n",
              "      <td>1.0</td>\n",
              "    </tr>\n",
              "  </tbody>\n",
              "</table>\n",
              "<p>2366 rows × 9 columns</p>\n",
              "</div>"
            ],
            "text/plain": [
              "        Price  Location  Postal Code  Area  Bedrooms  Bathrooms  Receptions  \\\n",
              "2040  1295000       1.0          1.0  2055       1.0        1.0         1.0   \n",
              "1667  2500000       1.0          1.0  2235       1.0        1.0         1.0   \n",
              "2050  2850000       1.0          1.0  5380       1.0        1.0         1.0   \n",
              "744   3500000       1.0          1.0  2216       1.0        1.0         1.0   \n",
              "2683  1950000       1.0          1.0  2090       1.0        1.0         1.0   \n",
              "...       ...       ...          ...   ...       ...        ...         ...   \n",
              "1512   630000       1.0          1.0   904       1.0        1.0         1.0   \n",
              "1993   495000       1.0          1.0   693       1.0        1.0         1.0   \n",
              "1064  2850000       1.0          1.0  1752       1.0        1.0         1.0   \n",
              "742   1750000       1.0          1.0  1224       1.0        1.0         1.0   \n",
              "595   1450000       1.0          1.0  2523       1.0        1.0         1.0   \n",
              "\n",
              "      City-County  House-Type  \n",
              "2040          1.0         1.0  \n",
              "1667          1.0         1.0  \n",
              "2050          1.0         1.0  \n",
              "744           1.0         1.0  \n",
              "2683          1.0         1.0  \n",
              "...           ...         ...  \n",
              "1512          1.0         1.0  \n",
              "1993          1.0         1.0  \n",
              "1064          1.0         1.0  \n",
              "742           1.0         1.0  \n",
              "595           1.0         1.0  \n",
              "\n",
              "[2366 rows x 9 columns]"
            ]
          },
          "execution_count": 31,
          "metadata": {},
          "output_type": "execute_result"
        }
      ],
      "source": [
        "X_train"
      ]
    },
    {
      "cell_type": "code",
      "execution_count": 29,
      "metadata": {
        "colab": {
          "base_uri": "https://localhost:8080/"
        },
        "id": "FU0Ex1iraCTF",
        "outputId": "1f6aee01-5f39-46ee-d4ab-9ad7c83136d3"
      },
      "outputs": [
        {
          "name": "stdout",
          "output_type": "stream",
          "text": [
            "Model: \"sequential_1\"\n",
            "_________________________________________________________________\n",
            " Layer (type)                Output Shape              Param #   \n",
            "=================================================================\n",
            " dense_5 (Dense)             (None, 19)                190       \n",
            "                                                                 \n",
            " dense_6 (Dense)             (None, 19)                380       \n",
            "                                                                 \n",
            " dense_7 (Dense)             (None, 19)                380       \n",
            "                                                                 \n",
            " dense_8 (Dense)             (None, 19)                380       \n",
            "                                                                 \n",
            " dense_9 (Dense)             (None, 1)                 20        \n",
            "                                                                 \n",
            "=================================================================\n",
            "Total params: 1350 (5.27 KB)\n",
            "Trainable params: 1350 (5.27 KB)\n",
            "Non-trainable params: 0 (0.00 Byte)\n",
            "_________________________________________________________________\n"
          ]
        },
        {
          "ename": "ValueError",
          "evalue": "could not broadcast input array from shape (2,1892) into shape (1,1892)",
          "output_type": "error",
          "traceback": [
            "\u001b[0;31m---------------------------------------------------------------------------\u001b[0m",
            "\u001b[0;31mValueError\u001b[0m                                Traceback (most recent call last)",
            "Cell \u001b[0;32mIn[29], line 2\u001b[0m\n\u001b[1;32m      1\u001b[0m model \u001b[39m=\u001b[39m create_model(X_train\u001b[39m.\u001b[39mshape[\u001b[39m1\u001b[39m])\n\u001b[0;32m----> 2\u001b[0m history \u001b[39m=\u001b[39m model\u001b[39m.\u001b[39;49mfit(X_train, np\u001b[39m.\u001b[39;49mlog(y_train), epochs \u001b[39m=\u001b[39;49m \u001b[39m2000\u001b[39;49m, validation_split \u001b[39m=\u001b[39;49m \u001b[39m0.2\u001b[39;49m)\n",
            "File \u001b[0;32m~/dev/cmc13-exame/env/lib/python3.11/site-packages/keras/src/utils/traceback_utils.py:70\u001b[0m, in \u001b[0;36mfilter_traceback.<locals>.error_handler\u001b[0;34m(*args, **kwargs)\u001b[0m\n\u001b[1;32m     67\u001b[0m     filtered_tb \u001b[39m=\u001b[39m _process_traceback_frames(e\u001b[39m.\u001b[39m__traceback__)\n\u001b[1;32m     68\u001b[0m     \u001b[39m# To get the full stack trace, call:\u001b[39;00m\n\u001b[1;32m     69\u001b[0m     \u001b[39m# `tf.debugging.disable_traceback_filtering()`\u001b[39;00m\n\u001b[0;32m---> 70\u001b[0m     \u001b[39mraise\u001b[39;00m e\u001b[39m.\u001b[39mwith_traceback(filtered_tb) \u001b[39mfrom\u001b[39;00m \u001b[39mNone\u001b[39;00m\n\u001b[1;32m     71\u001b[0m \u001b[39mfinally\u001b[39;00m:\n\u001b[1;32m     72\u001b[0m     \u001b[39mdel\u001b[39;00m filtered_tb\n",
            "File \u001b[0;32m~/dev/cmc13-exame/env/lib/python3.11/site-packages/pandas/core/generic.py:1997\u001b[0m, in \u001b[0;36mNDFrame.__array__\u001b[0;34m(self, dtype)\u001b[0m\n\u001b[1;32m   1996\u001b[0m \u001b[39mdef\u001b[39;00m \u001b[39m__array__\u001b[39m(\u001b[39mself\u001b[39m, dtype: npt\u001b[39m.\u001b[39mDTypeLike \u001b[39m|\u001b[39m \u001b[39mNone\u001b[39;00m \u001b[39m=\u001b[39m \u001b[39mNone\u001b[39;00m) \u001b[39m-\u001b[39m\u001b[39m>\u001b[39m np\u001b[39m.\u001b[39mndarray:\n\u001b[0;32m-> 1997\u001b[0m     values \u001b[39m=\u001b[39m \u001b[39mself\u001b[39;49m\u001b[39m.\u001b[39;49m_values\n\u001b[1;32m   1998\u001b[0m     arr \u001b[39m=\u001b[39m np\u001b[39m.\u001b[39masarray(values, dtype\u001b[39m=\u001b[39mdtype)\n\u001b[1;32m   1999\u001b[0m     \u001b[39mif\u001b[39;00m (\n\u001b[1;32m   2000\u001b[0m         astype_is_view(values\u001b[39m.\u001b[39mdtype, arr\u001b[39m.\u001b[39mdtype)\n\u001b[1;32m   2001\u001b[0m         \u001b[39mand\u001b[39;00m using_copy_on_write()\n\u001b[1;32m   2002\u001b[0m         \u001b[39mand\u001b[39;00m \u001b[39mself\u001b[39m\u001b[39m.\u001b[39m_mgr\u001b[39m.\u001b[39mis_single_block\n\u001b[1;32m   2003\u001b[0m     ):\n\u001b[1;32m   2004\u001b[0m         \u001b[39m# Check if both conversions can be done without a copy\u001b[39;00m\n",
            "File \u001b[0;32m~/dev/cmc13-exame/env/lib/python3.11/site-packages/pandas/core/frame.py:1001\u001b[0m, in \u001b[0;36mDataFrame._values\u001b[0;34m(self)\u001b[0m\n\u001b[1;32m    999\u001b[0m blocks \u001b[39m=\u001b[39m mgr\u001b[39m.\u001b[39mblocks\n\u001b[1;32m   1000\u001b[0m \u001b[39mif\u001b[39;00m \u001b[39mlen\u001b[39m(blocks) \u001b[39m!=\u001b[39m \u001b[39m1\u001b[39m:\n\u001b[0;32m-> 1001\u001b[0m     \u001b[39mreturn\u001b[39;00m ensure_wrapped_if_datetimelike(\u001b[39mself\u001b[39;49m\u001b[39m.\u001b[39;49mvalues)\n\u001b[1;32m   1003\u001b[0m arr \u001b[39m=\u001b[39m blocks[\u001b[39m0\u001b[39m]\u001b[39m.\u001b[39mvalues\n\u001b[1;32m   1004\u001b[0m \u001b[39mif\u001b[39;00m arr\u001b[39m.\u001b[39mndim \u001b[39m==\u001b[39m \u001b[39m1\u001b[39m:\n\u001b[1;32m   1005\u001b[0m     \u001b[39m# non-2D ExtensionArray\u001b[39;00m\n",
            "File \u001b[0;32m~/dev/cmc13-exame/env/lib/python3.11/site-packages/pandas/core/frame.py:11360\u001b[0m, in \u001b[0;36mDataFrame.values\u001b[0;34m(self)\u001b[0m\n\u001b[1;32m  11286\u001b[0m \u001b[39m@property\u001b[39m\n\u001b[1;32m  11287\u001b[0m \u001b[39mdef\u001b[39;00m \u001b[39mvalues\u001b[39m(\u001b[39mself\u001b[39m) \u001b[39m-\u001b[39m\u001b[39m>\u001b[39m np\u001b[39m.\u001b[39mndarray:\n\u001b[1;32m  11288\u001b[0m \u001b[39m    \u001b[39m\u001b[39m\"\"\"\u001b[39;00m\n\u001b[1;32m  11289\u001b[0m \u001b[39m    Return a Numpy representation of the DataFrame.\u001b[39;00m\n\u001b[1;32m  11290\u001b[0m \n\u001b[0;32m   (...)\u001b[0m\n\u001b[1;32m  11358\u001b[0m \u001b[39m           ['monkey', nan, None]], dtype=object)\u001b[39;00m\n\u001b[1;32m  11359\u001b[0m \u001b[39m    \"\"\"\u001b[39;00m\n\u001b[0;32m> 11360\u001b[0m     \u001b[39mreturn\u001b[39;00m \u001b[39mself\u001b[39;49m\u001b[39m.\u001b[39;49m_mgr\u001b[39m.\u001b[39;49mas_array()\n",
            "File \u001b[0;32m~/dev/cmc13-exame/env/lib/python3.11/site-packages/pandas/core/internals/managers.py:1732\u001b[0m, in \u001b[0;36mBlockManager.as_array\u001b[0;34m(self, dtype, copy, na_value)\u001b[0m\n\u001b[1;32m   1730\u001b[0m         arr\u001b[39m.\u001b[39mflags\u001b[39m.\u001b[39mwriteable \u001b[39m=\u001b[39m \u001b[39mFalse\u001b[39;00m\n\u001b[1;32m   1731\u001b[0m \u001b[39melse\u001b[39;00m:\n\u001b[0;32m-> 1732\u001b[0m     arr \u001b[39m=\u001b[39m \u001b[39mself\u001b[39;49m\u001b[39m.\u001b[39;49m_interleave(dtype\u001b[39m=\u001b[39;49mdtype, na_value\u001b[39m=\u001b[39;49mna_value)\n\u001b[1;32m   1733\u001b[0m     \u001b[39m# The underlying data was copied within _interleave, so no need\u001b[39;00m\n\u001b[1;32m   1734\u001b[0m     \u001b[39m# to further copy if copy=True or setting na_value\u001b[39;00m\n\u001b[1;32m   1736\u001b[0m \u001b[39mif\u001b[39;00m na_value \u001b[39mis\u001b[39;00m \u001b[39mnot\u001b[39;00m lib\u001b[39m.\u001b[39mno_default:\n",
            "File \u001b[0;32m~/dev/cmc13-exame/env/lib/python3.11/site-packages/pandas/core/internals/managers.py:1794\u001b[0m, in \u001b[0;36mBlockManager._interleave\u001b[0;34m(self, dtype, na_value)\u001b[0m\n\u001b[1;32m   1792\u001b[0m     \u001b[39melse\u001b[39;00m:\n\u001b[1;32m   1793\u001b[0m         arr \u001b[39m=\u001b[39m blk\u001b[39m.\u001b[39mget_values(dtype)\n\u001b[0;32m-> 1794\u001b[0m     result[rl\u001b[39m.\u001b[39;49mindexer] \u001b[39m=\u001b[39m arr\n\u001b[1;32m   1795\u001b[0m     itemmask[rl\u001b[39m.\u001b[39mindexer] \u001b[39m=\u001b[39m \u001b[39m1\u001b[39m\n\u001b[1;32m   1797\u001b[0m \u001b[39mif\u001b[39;00m \u001b[39mnot\u001b[39;00m itemmask\u001b[39m.\u001b[39mall():\n",
            "\u001b[0;31mValueError\u001b[0m: could not broadcast input array from shape (2,1892) into shape (1,1892)"
          ]
        }
      ],
      "source": [
        "model = create_model(X_train.shape[1])\n",
        "history = model.fit(X_train, np.log(y_train), epochs = 2000, validation_split = 0.2)"
      ]
    },
    {
      "cell_type": "code",
      "execution_count": null,
      "metadata": {
        "colab": {
          "base_uri": "https://localhost:8080/",
          "height": 472
        },
        "id": "hmnJLLLSobxL",
        "outputId": "a37beba9-eae8-4d0c-b399-ebf270265e16"
      },
      "outputs": [],
      "source": [
        "# Plotting cost function convergence\n",
        "plt.plot(history.history['loss'])\n",
        "plt.xlabel('Epoch')\n",
        "plt.ylabel('Cost')\n",
        "plt.title('Cost Function Convergence')\n",
        "plt.grid()\n",
        "plt.show()"
      ]
    },
    {
      "cell_type": "code",
      "execution_count": null,
      "metadata": {
        "colab": {
          "base_uri": "https://localhost:8080/",
          "height": 1000
        },
        "id": "_JYBvUdRkd4Q",
        "outputId": "507dc4f4-be40-46f8-ecb5-230e04f9622a"
      },
      "outputs": [],
      "source": [
        "predictions = np.exp(model.predict(X_test))\n",
        "\n",
        "model_dist_plot(y_test, predictions, 'Rede Neural - Predição')\n",
        "actual_vs_pred_plot(y_test, predictions, \"Rede Neural - Predição\")\n",
        "\n",
        "\n",
        "# Create residual plot\n",
        "model_residual_plot(y_test, predictions[:,0], 'Rede Neural - Predição')\n"
      ]
    },
    {
      "cell_type": "code",
      "execution_count": null,
      "metadata": {
        "colab": {
          "base_uri": "https://localhost:8080/",
          "height": 1000
        },
        "id": "RwZgPhDM2nwy",
        "outputId": "49aced68-e3ac-495c-d0ae-60a8854e944b"
      },
      "outputs": [],
      "source": [
        "predictions = np.exp(model.predict(X_train))\n",
        "\n",
        "model_dist_plot(y_train, predictions, 'Rede Neural - Treino dataset')\n",
        "actual_vs_pred_plot(y_train, predictions, \"Rede Neural - Treino dataset\")\n",
        "\n",
        "\n",
        "# Create residual plot\n",
        "model_residual_plot(y_train, predictions[:,0], 'Rede Neural - Treino dataset')"
      ]
    },
    {
      "cell_type": "code",
      "execution_count": null,
      "metadata": {
        "colab": {
          "base_uri": "https://localhost:8080/"
        },
        "id": "_mLo-px0kBOD",
        "outputId": "25b31ef3-7ff1-411e-9e72-db5c3499575e"
      },
      "outputs": [],
      "source": [
        "!gdown 16tT3wHeWoUvlp9pEi3E4Q9L_msZr5v-t\n",
        "columns = {\n",
        "    \"Price\": np.uint32,\n",
        "    \"Location\": str,\n",
        "    \"Postal Code\": str,\n",
        "    \"Area\": np.uint16,\n",
        "    \"Bedrooms\": np.uint8,\n",
        "    \"Bathrooms\": np.uint8,\n",
        "    \"Receptions\": np.uint8,\n",
        "    \"City-County\": str,\n",
        "    \"House-Type\": str,\n",
        "    }\n",
        "data = pd.read_csv('UK_real_estate.csv',index_col = False, usecols = columns.keys(), dtype= columns)"
      ]
    },
    {
      "cell_type": "code",
      "execution_count": null,
      "metadata": {
        "id": "kSz2frMdjlh1"
      },
      "outputs": [],
      "source": [
        "from sklearn.neural_network import MLPRegressor\n",
        "from sklearn.model_selection import train_test_split\n",
        "X = data.drop(columns = ['Price'])\n",
        "y = np.log(data['Price'])\n",
        "X_train, X_test, y_train, y_test = train_test_split(X,\n",
        "                                                    y,\n",
        "                                                    test_size = 0.3,\n",
        "                                                    random_state=23)"
      ]
    },
    {
      "cell_type": "code",
      "execution_count": null,
      "metadata": {
        "id": "7G4Aukl2kR76"
      },
      "outputs": [],
      "source": [
        "mlp = MLPRegressor(hidden_layer_sizes=(100, 50, 30, 1), max_iter=1000)"
      ]
    },
    {
      "cell_type": "code",
      "execution_count": null,
      "metadata": {
        "colab": {
          "base_uri": "https://localhost:8080/",
          "height": 165
        },
        "id": "IEPk5QkbkeIY",
        "outputId": "2a0a2aa7-2ed3-42f4-c3c4-fefd1461ea5f"
      },
      "outputs": [],
      "source": [
        "mlp.fit(X_train, y_train)"
      ]
    },
    {
      "cell_type": "markdown",
      "metadata": {
        "id": "MPq-2-Lu46Gd"
      },
      "source": [
        "## 4. Análise Comparativa do desempenho dos modelos\n",
        "\n",
        "Apresente os dados e discussões sobre os resultados, inclusive dados sobre o desempenho no dataset de treino e testes."
      ]
    },
    {
      "cell_type": "markdown",
      "metadata": {
        "id": "K9ErOByM48Lw"
      },
      "source": [
        "## 5. Aplicação da predição do Modelo Desenvolvido\n",
        "\n",
        "Trecho de código para uso do modelo desenvolvido aplicado a um arquivo de dado do mesmo formato do arquivo de dados fornecido (UK_real_estate.csv). O nome do arquivo de dados de testes será `UK_real_estate_test.csv`."
      ]
    },
    {
      "cell_type": "markdown",
      "metadata": {
        "id": "5caTdyXG49zJ"
      },
      "source": [
        "## 6. Conclusões\n",
        "\n",
        "Comentários e sugestões sobre o trabalho (complexidade/facilidade, sugestões, etc.)."
      ]
    },
    {
      "cell_type": "code",
      "execution_count": null,
      "metadata": {
        "id": "NKeRne_-5Gsf"
      },
      "outputs": [],
      "source": []
    }
  ],
  "metadata": {
    "colab": {
      "provenance": []
    },
    "kernelspec": {
      "display_name": "Python 3",
      "name": "python3"
    },
    "language_info": {
      "codemirror_mode": {
        "name": "ipython",
        "version": 3
      },
      "file_extension": ".py",
      "mimetype": "text/x-python",
      "name": "python",
      "nbconvert_exporter": "python",
      "pygments_lexer": "ipython3",
      "version": "3.11.4"
    }
  },
  "nbformat": 4,
  "nbformat_minor": 0
}
